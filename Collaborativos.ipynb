{
 "cells": [
  {
   "cell_type": "code",
   "execution_count": null,
   "id": "2e423ce0",
   "metadata": {},
   "outputs": [],
   "source": [
    "#import libs\n",
    "import numpy as np\n",
    "import pandas as pd\n",
    "import polars as pl\n",
    "from tqdm import tqdm\n",
    "import random\n",
    "#Model\n",
    "import lightgbm as lgb\n",
    "#BO\n",
    "from bayes_opt import BayesianOptimization\n",
    "#for random ensemble\n",
    "from sklearn.linear_model import LogisticRegression, LinearRegression\n",
    "#evo alg\n",
    "from deap import base, creator, tools, algorithms\n",
    "#plot\n",
    "from matplotlib import pyplot as plt\n",
    "import seaborn as sns"
   ]
  },
  {
   "cell_type": "markdown",
   "id": "42426d79",
   "metadata": {},
   "source": [
    "# Common elements"
   ]
  },
  {
   "cell_type": "code",
   "execution_count": null,
   "id": "8c8c2b81",
   "metadata": {},
   "outputs": [],
   "source": [
    "#dataset with added class label for b1, b2, c\n",
    "df_data = pd.read_csv('../df_initial_comp3.csv')\n",
    "df_data = pl.from_pandas(df_data)\n",
    "\n",
    "#combine b1 and b2 classes\n",
    "df_data = df_data.with_columns(df_data['class'].clone().alias('true_class'))\n",
    "df_data = df_data.with_columns(\n",
    "                                pl.when(df_data['true_class'] == 'Baja+2')\\\n",
    "                                .then(1)\n",
    "                                .when(df_data['true_class'] == 'Baja+1')\\\n",
    "                                .then(0)\\\n",
    "                                .otherwise(0).alias('true_class')\n",
    "                               )\n",
    "df_data = df_data.with_columns(\n",
    "                                pl.when(df_data['class'] == 'Baja+2')\\\n",
    "                                .then(1)\n",
    "                                .when(df_data['class'] == 'Baja+1')\\\n",
    "                                .then(1)\\\n",
    "                                .otherwise(0).alias('class')\n",
    "                               )\n",
    "\n",
    "#convert date\n",
    "df_data = df_data.with_columns(pl.col('foto_mes').str.to_datetime().alias('foto_mes'))\n",
    "\n",
    "#sort\n",
    "df_data = df_data.sort(['numero_de_cliente', 'foto_mes'])\n",
    "\n",
    "#select all float colnames\n",
    "lag_columns = df_data.select([pl.col(pl.Float64)]).columns\n",
    "for col in df_data.select([pl.col(pl.Float64)]).columns:\n",
    "    #cast to int to reduce memory consumption\n",
    "    df_data = df_data.with_columns(df_data[col].cast(pl.Int64), alias=col)\n",
    "\n",
    "#create lag features\n",
    "for col in lag_columns:\n",
    "    for i in [1,3,6]:\n",
    "        lag_col_name = f\"{col}_lag_{i}\"\n",
    "        df_data = df_data.with_columns(\n",
    "                                        pl.col(col)\n",
    "                                        .shift(-i)\n",
    "                                        .over(pl.col('numero_de_cliente'))\n",
    "                                        .alias(lag_col_name)\n",
    "                                      )"
   ]
  },
  {
   "cell_type": "code",
   "execution_count": null,
   "id": "f8227789",
   "metadata": {},
   "outputs": [],
   "source": [
    "'true_class' in lag_columns"
   ]
  },
  {
   "cell_type": "code",
   "execution_count": null,
   "id": "4fc7bbef",
   "metadata": {},
   "outputs": [],
   "source": [
    "'class' in lag_columns"
   ]
  },
  {
   "cell_type": "code",
   "execution_count": null,
   "id": "76154f3e",
   "metadata": {},
   "outputs": [],
   "source": [
    "SEED = 42"
   ]
  },
  {
   "cell_type": "code",
   "execution_count": null,
   "id": "1cd3beaf",
   "metadata": {},
   "outputs": [],
   "source": [
    "#training and testing data\n",
    "#select dates range: 6 months for training, 1 scipped, 1 for validation\n",
    "df_data = df_data.filter(df_data['foto_mes'] >= pl.date(2020,12,1))\n",
    "\n",
    "#train data\n",
    "#6 meses de entrenamiento\n",
    "df_train = df_data.filter(df_data['foto_mes'] <= pl.date(2021,5,1)).to_pandas().copy()\n",
    "\n",
    "#validation and test data\n",
    "df_val = df_data.filter(df_data['foto_mes'] == pl.date(2021,6,1)).to_pandas().copy()\n",
    "df_test = df_data.filter(df_data['foto_mes'] == pl.date(2021,7,1)).to_pandas().copy()\n",
    "\n",
    "#drop original data\n",
    "del df_data"
   ]
  },
  {
   "cell_type": "code",
   "execution_count": null,
   "id": "b0eaf39d",
   "metadata": {},
   "outputs": [],
   "source": [
    "df_train"
   ]
  },
  {
   "cell_type": "code",
   "execution_count": null,
   "id": "8ec8142e",
   "metadata": {},
   "outputs": [],
   "source": [
    "#param space\n",
    "space = {'MAX_DEPTH': (3, 12),\n",
    "         'COLSAMPLE_BYTREE': (0.5, 1),\n",
    "         'N_ESTIMATORS':(50,1000),\n",
    "         'NUM_LEAVES':(128,1024),\n",
    "         'REG_ALPHA':(0,100),\n",
    "         'REG_LAMBDA':(0,20)}"
   ]
  },
  {
   "cell_type": "code",
   "execution_count": null,
   "id": "73c9ac3a",
   "metadata": {},
   "outputs": [],
   "source": [
    "#target function to maximize and curves\n",
    "def calculate_expected_profit(df_labels, df_predictions, step=100, target_col='prob_target',class_col='class'):\n",
    "    curve = []\n",
    "    max_value = 0\n",
    "    max_step = -1\n",
    "    df_comb = df_labels.merge(df_predictions, left_on='numero_de_cliente', right_on='numero_de_cliente')\n",
    "    df_comb.sort_values(target_col, ascending=False, inplace=True)\n",
    "    for i in range(len(df_comb) // step + 1):\n",
    "        curve.append((i,sum(df_comb[class_col].iloc[:min(i*step,len(df_comb))])*280000 - min(i*step,len(df_comb)) * 7000))\n",
    "        if max_value < sum(df_comb[class_col].iloc[:min(i*step,len(df_comb))])*280000 - min(i*step,len(df_comb)) * 7000:\n",
    "            max_value = sum(df_comb[class_col].iloc[:min(i*step,len(df_comb))])*280000 - min(i*step,len(df_comb)) * 7000\n",
    "            max_step = i\n",
    "    return max_step, max_value, curve"
   ]
  },
  {
   "cell_type": "code",
   "execution_count": null,
   "id": "8671b765",
   "metadata": {},
   "outputs": [],
   "source": [
    "#logging\n",
    "log = []\n",
    "def bo_function(NUM_LEAVES, MAX_DEPTH, N_ESTIMATORS, COLSAMPLE_BYTREE, REG_ALPHA, REG_LAMBDA, step=100, df_train=df_train):\n",
    "\n",
    "    #model\n",
    "    model = lgb.LGBMClassifier(\n",
    "                                boosting_type='gbdt',\n",
    "                                eval_metric='cross_entropy_lambda',\n",
    "                                num_leaves=int(NUM_LEAVES),\n",
    "                                max_depth=int(MAX_DEPTH),\n",
    "                                n_estimators=int(N_ESTIMATORS),\n",
    "                                colsample_bytree=COLSAMPLE_BYTREE,\n",
    "                                learning_rate=1, \n",
    "                                random_state=SEED,\n",
    "                                zero_as_missing=True,\n",
    "                                class_weight='balanced',\n",
    "                                objective='binary', \n",
    "                                verbosity=-1,\n",
    "                                reg_alpha=REG_ALPHA,\n",
    "                                reg_lambda=REG_LAMBDA\n",
    "                              )\n",
    "    \n",
    "    #train\n",
    "    model.fit(\n",
    "                df_train.drop(['numero_de_cliente',\n",
    "                               'foto_mes',\n",
    "                               'class',\n",
    "                               'true_class'], axis=1), \n",
    "                df_train['class']\n",
    "             )\n",
    "    \n",
    "    #predict\n",
    "    df_pred = df_val[['numero_de_cliente']]\n",
    "    df_pred['prob_target'] = model.predict_proba(df_val.drop(['numero_de_cliente',\n",
    "                                                              'foto_mes',\n",
    "                                                              'class',\n",
    "                                                              'true_class'], axis=1))[:,1]\n",
    "    \n",
    "    step, val, curve = calculate_expected_profit(df_labels=df_val[['numero_de_cliente','class']], \n",
    "                                                 df_predictions=df_pred, \n",
    "                                                 step=100)\n",
    "    log.append(curve)\n",
    "    \n",
    "    return val"
   ]
  },
  {
   "cell_type": "markdown",
   "id": "5cf6416f",
   "metadata": {},
   "source": [
    "# Traditional BO (baseline)\n",
    "\n",
    "50 iterations, 16 initial points."
   ]
  },
  {
   "cell_type": "code",
   "execution_count": null,
   "id": "664f176b",
   "metadata": {},
   "outputs": [],
   "source": [
    "optimizer = BayesianOptimization(\n",
    "                                    f=bo_function,\n",
    "                                    pbounds=space,\n",
    "                                    random_state=42,\n",
    "                                )"
   ]
  },
  {
   "cell_type": "code",
   "execution_count": null,
   "id": "bbda75bb",
   "metadata": {
    "scrolled": false
   },
   "outputs": [],
   "source": [
    "optimizer.maximize(\n",
    "                      init_points=16,\n",
    "                      n_iter=50,\n",
    "                  )"
   ]
  },
  {
   "cell_type": "code",
   "execution_count": null,
   "id": "6f79f831",
   "metadata": {},
   "outputs": [],
   "source": [
    "#Optimizer's iterations can be accessed via8:\n",
    "\n",
    "#print(optimizer.max)\n",
    "\n",
    "#for i, res in enumerate(optimizer.res):\n",
    "#    print(\"Iteration {}: \\n\\t{}\".format(i, res))"
   ]
  },
  {
   "cell_type": "markdown",
   "id": "73cf9d1c",
   "metadata": {},
   "source": [
    "## Curves"
   ]
  },
  {
   "cell_type": "code",
   "execution_count": null,
   "id": "5540bcaa",
   "metadata": {},
   "outputs": [],
   "source": [
    "df_curves = pd.DataFrame(columns=['experiment','point value','curve'])"
   ]
  },
  {
   "cell_type": "markdown",
   "id": "2d3ca731",
   "metadata": {},
   "source": [
    "# BO ensemble"
   ]
  },
  {
   "cell_type": "markdown",
   "id": "ca92c678",
   "metadata": {},
   "source": [
    "## BO ensemble semillero 20"
   ]
  },
  {
   "cell_type": "code",
   "execution_count": null,
   "id": "87c67bbe",
   "metadata": {},
   "outputs": [],
   "source": [
    "#train 20 models\n",
    "random.seed(42)\n",
    "seed_array = [random.getrandbits(32) for i in range(20)]\n",
    "\n",
    "df_pred_val = df_val[['numero_de_cliente']]\n",
    "df_pred_test = df_test[['numero_de_cliente']]\n",
    "\n",
    "for seed in seed_array:\n",
    "    \n",
    "    model = lgb.LGBMClassifier(\n",
    "                                boosting_type='gbdt',\n",
    "                                eval_metric='cross_entropy_lambda',\n",
    "                                num_leaves=int(optimizer.max['params']['NUM_LEAVES']),\n",
    "                                max_depth=int(optimizer.max['params']['MAX_DEPTH']),\n",
    "                                n_estimators=int(optimizer.max['params']['N_ESTIMATORS']),\n",
    "                                colsample_bytree=optimizer.max['params']['COLSAMPLE_BYTREE'],\n",
    "                                learning_rate=1, \n",
    "                                random_state=seed,\n",
    "                                zero_as_missing=True,\n",
    "                                class_weight='balanced',\n",
    "                                objective='binary', \n",
    "                                verbosity=-1,\n",
    "                                reg_alpha=optimizer.max['params']['REG_ALPHA'],\n",
    "                                reg_lambda=optimizer.max['params']['REG_LAMBDA']\n",
    "                              )\n",
    "    \n",
    "    #train\n",
    "    model.fit(\n",
    "                df_train.drop(['numero_de_cliente','foto_mes','class','true_class'], axis=1), \n",
    "                df_train['class']\n",
    "             )\n",
    "    \n",
    "    #predict val\n",
    "    df_pred_val[f'prob_target_{seed}'] = model.predict_proba(df_val.drop(['numero_de_cliente',\n",
    "                                                                          'foto_mes',\n",
    "                                                                          'class',\n",
    "                                                                          'true_class'], axis=1))[:,1]\n",
    "    \n",
    "    #predict test\n",
    "    df_pred_test[f'prob_target_{seed}'] = model.predict_proba(df_test.drop(['numero_de_cliente',\n",
    "                                                                            'foto_mes',\n",
    "                                                                            'class',\n",
    "                                                                            'true_class'], axis=1))[:,1]\n"
   ]
  },
  {
   "cell_type": "code",
   "execution_count": null,
   "id": "9996b515",
   "metadata": {},
   "outputs": [],
   "source": [
    "#Estimate cutoff\n",
    "STEP = 100\n",
    "\n",
    "df_pred_val['avg_prob'] = sum([df_pred_val[f'prob_target_{seed}'] for seed in seed_array]) / len(seed_array)\n",
    "df_pred_test['avg_prob'] = sum([df_pred_test[f'prob_target_{seed}'] for seed in seed_array]) / len(seed_array)\n",
    "\n",
    "step, val, curve = calculate_expected_profit(df_labels=df_val[['numero_de_cliente','class']], \n",
    "                                             df_predictions=df_pred_val[['numero_de_cliente','avg_prob']], \n",
    "                                             step=STEP,\n",
    "                                             target_col='avg_prob',\n",
    "                                             class_col='class')\n",
    "print('Num envios', step*STEP, '\\nGanancia', val)"
   ]
  },
  {
   "cell_type": "code",
   "execution_count": null,
   "id": "c0956ac3",
   "metadata": {},
   "outputs": [],
   "source": [
    "#df_pred_test.drop(['true_class_x','true_class_y','label','class_x','class_y','true_class'],axis=1)"
   ]
  },
  {
   "cell_type": "code",
   "execution_count": null,
   "id": "9cdc0eae",
   "metadata": {},
   "outputs": [],
   "source": [
    "#Expected profit\n",
    "df_pred_test = df_pred_test.sort_values(['avg_prob'],ascending=False)\n",
    "df_pred_test = df_pred_test.merge(df_test[['numero_de_cliente','class']],\n",
    "                                  left_on='numero_de_cliente',\n",
    "                                  right_on='numero_de_cliente')\n",
    "\n",
    "df_pred_test['label'] = 0\n",
    "df_pred_test.loc[:step*STEP,'label'] = 1\n",
    "\n",
    "ganancia_semillero = sum(df_pred_test['label'] * (-7000)) + \\\n",
    "                     len(df_pred_test.loc[(df_pred_test['label']==1) & \\\n",
    "                                          (df_pred_test['class']==1)]) * 273000\n",
    "print('Bayesian semillero 20', ganancia_semillero)"
   ]
  },
  {
   "cell_type": "code",
   "execution_count": null,
   "id": "a3732b6a",
   "metadata": {},
   "outputs": [],
   "source": [
    "#Adjust number of sent\n",
    "STEP = 100\n",
    "step, val, curve = calculate_expected_profit(df_labels=df_test[['numero_de_cliente','true_class']], \n",
    "                                             df_predictions=df_pred_test[['numero_de_cliente','avg_prob']], \n",
    "                                             step=STEP,\n",
    "                                             target_col='avg_prob',class_col='true_class')\n",
    "print('Bayesian semillero 20 adjusted true labels', val)\n",
    "df_curves.loc[len(df_curves.index)] = ['Bayesian semillero 20 true', val, curve]"
   ]
  },
  {
   "cell_type": "code",
   "execution_count": null,
   "id": "000f4a11",
   "metadata": {},
   "outputs": [],
   "source": [
    "#Adjust number of sent\n",
    "STEP = 100\n",
    "step, val, curve = calculate_expected_profit(df_labels=df_test[['numero_de_cliente','class']], \n",
    "                                             df_predictions=df_pred_test[['numero_de_cliente','avg_prob']], \n",
    "                                             step=STEP,\n",
    "                                             target_col='avg_prob',\n",
    "                                             class_col='class')\n",
    "print('Bayesian semillero 20 adjusted binary labels', val)\n",
    "df_curves.loc[len(df_curves.index)] = ['Bayesian semillero 20 binary', val, curve]"
   ]
  },
  {
   "cell_type": "markdown",
   "id": "1f6b9601",
   "metadata": {},
   "source": [
    "## BO ensemble 20 mejores"
   ]
  },
  {
   "cell_type": "code",
   "execution_count": null,
   "id": "c514a7e5",
   "metadata": {},
   "outputs": [],
   "source": [
    "#create df with parameters and objective values\n",
    "df_iters = pd.DataFrame(columns=['ganancia',\n",
    "                                 'COLSAMPLE_BYTREE',\n",
    "                                 'MAX_DEPTH', \n",
    "                                 'NUM_LEAVES', \n",
    "                                 'N_ESTIMATORS', \n",
    "                                 'REG_ALPHA', \n",
    "                                 'REG_LAMBDA'])\n",
    "\n",
    "for i, res in enumerate(optimizer.res):\n",
    "    df_iters.loc[len(df_iters.index)] = [\n",
    "                                            res['target'],\n",
    "                                            res['params']['COLSAMPLE_BYTREE'],\n",
    "                                            res['params']['MAX_DEPTH'],\n",
    "                                            res['params']['NUM_LEAVES'],\n",
    "                                            res['params']['N_ESTIMATORS'],\n",
    "                                            res['params']['REG_ALPHA'],\n",
    "                                            res['params']['REG_LAMBDA']\n",
    "                                         ]\n",
    "\n",
    "df_iters.sort_values(['ganancia'],inplace=True,ascending=False)\n",
    "df_iters.reset_index(drop=True,inplace=True)"
   ]
  },
  {
   "cell_type": "code",
   "execution_count": null,
   "id": "854b2b2e",
   "metadata": {},
   "outputs": [],
   "source": [
    "#train 20 best models\n",
    "df_pred_val_bo20 = df_val[['numero_de_cliente']]\n",
    "df_pred_test_bo20 = df_test[['numero_de_cliente']]\n",
    "\n",
    "for i in range(20):\n",
    "    #seed for reproducibility\n",
    "   \n",
    "    model = lgb.LGBMClassifier(\n",
    "                                boosting_type='gbdt',\n",
    "                                eval_metric='cross_entropy_lambda',\n",
    "                                num_leaves=int(df_iters.loc[i,'NUM_LEAVES']),\n",
    "                                max_depth=int(df_iters.loc[i,'MAX_DEPTH']),\n",
    "                                n_estimators=int(df_iters.loc[i,'N_ESTIMATORS']),\n",
    "                                colsample_bytree=df_iters.loc[i,'COLSAMPLE_BYTREE'],\n",
    "                                learning_rate=1, \n",
    "                                random_state=SEED,\n",
    "                                zero_as_missing=True,\n",
    "                                class_weight='balanced',\n",
    "                                objective='binary', \n",
    "                                verbosity=-1,\n",
    "                                reg_alpha=df_iters.loc[i,'REG_ALPHA'],\n",
    "                                reg_lambda=df_iters.loc[i,'REG_LAMBDA']\n",
    "                              )\n",
    "    \n",
    "    #train\n",
    "    model.fit(\n",
    "                df_train.drop(['numero_de_cliente','foto_mes','class','true_class'], axis=1), \n",
    "                df_train['class']\n",
    "             )\n",
    "    \n",
    "    #predict val\n",
    "    df_pred_val_bo20[f'prob_target_{i}'] = model.predict_proba(df_val.drop(['numero_de_cliente',\n",
    "                                                                                'foto_mes',\n",
    "                                                                                'class',\n",
    "                                                                                'true_class'], axis=1))[:,1]\n",
    "    \n",
    "    #predict test\n",
    "    df_pred_test_bo20[f'prob_target_{i}'] = model.predict_proba(df_test.drop(['numero_de_cliente',\n",
    "                                                                                 'foto_mes',\n",
    "                                                                                 'class',\n",
    "                                                                                 'true_class'], axis=1))[:,1]"
   ]
  },
  {
   "cell_type": "code",
   "execution_count": null,
   "id": "67253741",
   "metadata": {},
   "outputs": [],
   "source": [
    "#Estimate cutoff\n",
    "STEP = 100\n",
    "\n",
    "df_pred_val_bo20['avg_prob'] = sum([df_pred_val_bo20[f'prob_target_{i}'] for i in range(20)]) / len(range(20))\n",
    "df_pred_test_bo20['avg_prob'] = sum([df_pred_test_bo20[f'prob_target_{i}'] for i in range(20)]) / len(range(20))\n",
    "\n",
    "step, val, curve = calculate_expected_profit(df_labels=df_val[['numero_de_cliente','class']], \n",
    "                                             df_predictions=df_pred_val_bo20[['numero_de_cliente','avg_prob']], \n",
    "                                             step=STEP,\n",
    "                                             target_col='avg_prob',\n",
    "                                             class_col='class')"
   ]
  },
  {
   "cell_type": "code",
   "execution_count": null,
   "id": "61b3c6f1",
   "metadata": {},
   "outputs": [],
   "source": [
    "#Expected profit\n",
    "\n",
    "df_pred_test_bo20 = df_pred_test_bo20[['numero_de_cliente','avg_prob']].sort_values(['avg_prob'])\n",
    "df_pred_test_bo20 = df_pred_test_bo20.merge(df_test[['numero_de_cliente','true_class']],\n",
    "                                            left_on='numero_de_cliente',\n",
    "                                            right_on='numero_de_cliente')\n",
    "\n",
    "df_pred_test_bo20['label'] = 0\n",
    "df_pred_test_bo20.loc[:step*STEP,'label'] = 1\n",
    "\n",
    "ganancia_best_20 = sum(df_pred_test_bo20['label']) * (-7000) + \\\n",
    "                   len(df_pred_test_bo20.loc[(df_pred_test_bo20['label']==1) & \\\n",
    "                                             (df_pred_test_bo20['true_class']==1)]) * 273000\n",
    "print('Bayesian best 20', ganancia_best_20)"
   ]
  },
  {
   "cell_type": "code",
   "execution_count": null,
   "id": "14eb3328",
   "metadata": {},
   "outputs": [],
   "source": [
    "#Adjust number of sent\n",
    "STEP = 100\n",
    "step, val, curve = calculate_expected_profit(df_labels=df_test[['numero_de_cliente','true_class']], \n",
    "                                             df_predictions=df_pred_test_bo20[['numero_de_cliente','avg_prob']], \n",
    "                                             step=STEP,\n",
    "                                             target_col='avg_prob',\n",
    "                                             class_col='true_class')\n",
    "print('Bayesian semillero 20 adjusted true labels', val)\n",
    "df_curves.loc[len(df_curves.index)] = ['Bayesian best 20 true', val, curve]"
   ]
  },
  {
   "cell_type": "code",
   "execution_count": null,
   "id": "9c4f07f7",
   "metadata": {},
   "outputs": [],
   "source": [
    "#Adjust number of sent\n",
    "STEP = 100\n",
    "step, val, curve = calculate_expected_profit(df_labels=df_test[['numero_de_cliente','class']], \n",
    "                                             df_predictions=df_pred_test_bo20[['numero_de_cliente','avg_prob']], \n",
    "                                             step=STEP,\n",
    "                                             target_col='avg_prob',\n",
    "                                             class_col='class')\n",
    "print('Bayesian semillero 20 adjusted binary labels', val)\n",
    "df_curves.loc[len(df_curves.index)] = ['Bayesian best 20 binary', val, curve]"
   ]
  },
  {
   "cell_type": "markdown",
   "id": "89677544",
   "metadata": {},
   "source": [
    "# Random ensemble"
   ]
  },
  {
   "cell_type": "code",
   "execution_count": null,
   "id": "188cbe69",
   "metadata": {},
   "outputs": [],
   "source": [
    "def get_random_params(seed):\n",
    "    random.seed(seed)\n",
    "    MAX_DEPTH = random.randint(3, 12)\n",
    "    COLSAMPLE_BYTREE = random.uniform(0.5, 1)\n",
    "    N_ESTIMATORS = random.randint(50,1000)\n",
    "    NUM_LEAVES = random.randint(128,1024)\n",
    "    REG_ALPHA = random.uniform(0,100)\n",
    "    REG_LAMBDA = random.uniform(0,20)\n",
    "    return MAX_DEPTH, COLSAMPLE_BYTREE, N_ESTIMATORS, NUM_LEAVES, REG_ALPHA, REG_LAMBDA"
   ]
  },
  {
   "cell_type": "code",
   "execution_count": null,
   "id": "5e263b2b",
   "metadata": {
    "scrolled": true
   },
   "outputs": [],
   "source": [
    "#df with outputs\n",
    "df_pred_val_ra = df_val[['numero_de_cliente']]\n",
    "df_pred_test_ra = df_test[['numero_de_cliente']]\n",
    "\n",
    "features = []\n",
    "\n",
    "#generate random models\n",
    "random.seed(42)\n",
    "seed_array = [random.getrandbits(32) for i in range(20)]\n",
    "for seed in seed_array:\n",
    "    #model\n",
    "    MAX_DEPTH, COLSAMPLE_BYTREE, N_ESTIMATORS, NUM_LEAVES, REG_ALPHA, REG_LAMBDA = get_random_params(seed)\n",
    "    model = lgb.LGBMClassifier(\n",
    "                                boosting_type='gbdt',\n",
    "                                eval_metric='cross_entropy_lambda',\n",
    "                                num_leaves=int(NUM_LEAVES),\n",
    "                                max_depth=int(MAX_DEPTH),\n",
    "                                n_estimators=int(N_ESTIMATORS),\n",
    "                                colsample_bytree=COLSAMPLE_BYTREE,\n",
    "                                learning_rate=1, \n",
    "                                random_state=SEED,\n",
    "                                zero_as_missing=True,\n",
    "                                class_weight='balanced',\n",
    "                                objective='binary', \n",
    "                                verbosity=-1,\n",
    "                                reg_alpha=REG_ALPHA,\n",
    "                                reg_lambda=REG_LAMBDA\n",
    "                              )\n",
    "    \n",
    "    #train\n",
    "    model.fit(\n",
    "                df_train.drop(['numero_de_cliente','foto_mes','class','true_class'], axis=1), \n",
    "                df_train['class']\n",
    "             )\n",
    "    \n",
    "    #predict\n",
    "    features.append(f'prob_target_{seed}')\n",
    "    df_pred_val_ra[f'prob_target_{seed}'] = model.predict_proba(df_val.drop(['numero_de_cliente',\n",
    "                                                                             'foto_mes',\n",
    "                                                                             'class',\n",
    "                                                                             'true_class'], axis=1))[:,1]\n",
    "    \n",
    "    #predict test\n",
    "    df_pred_test_ra[f'prob_target_{seed}'] = model.predict_proba(df_test.drop(['numero_de_cliente',\n",
    "                                                                               'foto_mes',\n",
    "                                                                               'class',\n",
    "                                                                               'true_class'], axis=1))[:,1]"
   ]
  },
  {
   "cell_type": "code",
   "execution_count": null,
   "id": "ffcc39b2",
   "metadata": {},
   "outputs": [],
   "source": [
    "STEP = 100\n",
    "df_pred_val_ra = df_pred_val_ra.merge(df_val[['numero_de_cliente','class','true_class']],\n",
    "                                      left_on='numero_de_cliente',\n",
    "                                      right_on='numero_de_cliente')"
   ]
  },
  {
   "cell_type": "code",
   "execution_count": null,
   "id": "c048d96b",
   "metadata": {},
   "outputs": [],
   "source": [
    "#weight models\n",
    "reg = LogisticRegression(random_state=SEED).fit(df_pred_val_ra[features], df_pred_val_ra['class'])\n",
    "\n",
    "df_pred_val_ra['avg_prob'] = reg.predict_proba(df_pred_val_ra[features])[:,1]\n",
    "df_pred_test_ra['avg_prob'] = reg.predict_proba(df_pred_test_ra[features])[:,1]\n",
    "\n",
    "#Estimate cutoff\n",
    "step, val, curve = calculate_expected_profit(df_labels=df_val[['numero_de_cliente','class']], \n",
    "                                             df_predictions=df_pred_val_ra[['numero_de_cliente','avg_prob']], \n",
    "                                             step=STEP,\n",
    "                                             target_col='avg_prob',\n",
    "                                             class_col='class')"
   ]
  },
  {
   "cell_type": "code",
   "execution_count": null,
   "id": "e67aaac1",
   "metadata": {},
   "outputs": [],
   "source": [
    "#Expected profit\n",
    "df_pred_test_ra = df_pred_test_ra.sort_values(['avg_prob'])\n",
    "df_pred_test_ra = df_pred_test_ra.merge(df_test[['numero_de_cliente','true_class']],\n",
    "                                        left_on='numero_de_cliente',\n",
    "                                        right_on='numero_de_cliente')\n",
    "\n",
    "df_pred_test_ra['label'] = None\n",
    "df_pred_test_ra.loc[:step*STEP,'label'] = 1\n",
    "df_pred_test_ra.loc[step*STEP:,'label'] = 0\n",
    "\n",
    "ganancia_random = sum(df_pred_test_ra['label'] * (-7000)) * \\\n",
    "                  len(df_pred_test_ra.loc[(df_pred_test_ra['label']==1) & \\\n",
    "                                          (df_pred_test_ra['true_class']==1)]) * 273000\n",
    "print('Weighted random ensemble', ganancia_random)"
   ]
  },
  {
   "cell_type": "code",
   "execution_count": null,
   "id": "835c3625",
   "metadata": {},
   "outputs": [],
   "source": [
    "#Adjust number of sent\n",
    "STEP = 100\n",
    "step, val, curve = calculate_expected_profit(df_labels=df_test[['numero_de_cliente','true_class']], \n",
    "                                             df_predictions=df_pred_test_ra[['numero_de_cliente','avg_prob']], \n",
    "                                             step=STEP,\n",
    "                                             target_col='avg_prob',\n",
    "                                             class_col='true_class')\n",
    "print('Random 20 adjusted true labels (logreg)', val)\n",
    "df_curves.loc[len(df_curves.index)] = ['Random 20 true (logreg)', val, curve]"
   ]
  },
  {
   "cell_type": "code",
   "execution_count": null,
   "id": "8718843f",
   "metadata": {},
   "outputs": [],
   "source": [
    "#Adjust number of sent\n",
    "STEP = 100\n",
    "step, val, curve = calculate_expected_profit(df_labels=df_test[['numero_de_cliente','class']], \n",
    "                                             df_predictions=df_pred_test_ra[['numero_de_cliente','avg_prob']], \n",
    "                                             step=STEP,\n",
    "                                             target_col='avg_prob',\n",
    "                                             class_col='class')\n",
    "print('Random 20 adjusted binary labels (logreg)', val)\n",
    "df_curves.loc[len(df_curves.index)] = ['Random 20 binary (logreg)', val, curve]"
   ]
  },
  {
   "cell_type": "code",
   "execution_count": null,
   "id": "9de44fc9",
   "metadata": {},
   "outputs": [],
   "source": [
    "#weight models\n",
    "random.seed(42)\n",
    "features=[]\n",
    "seed_array = [random.getrandbits(32) for i in range(20)]\n",
    "for seed in seed_array:\n",
    "    features.append(f'prob_target_{seed}')\n",
    "lin_reg = LinearRegression().fit(df_pred_val_ra[features], df_pred_val_ra['class'])\n",
    "\n",
    "df_pred_val_ra['avg_prob_lin'] = lin_reg.predict(df_pred_val_ra[features])\n",
    "df_pred_test_ra['avg_prob_lin'] = lin_reg.predict(df_pred_test_ra[features])"
   ]
  },
  {
   "cell_type": "code",
   "execution_count": null,
   "id": "b45105cd",
   "metadata": {},
   "outputs": [],
   "source": [
    "#Adjust number of sent\n",
    "STEP = 100\n",
    "step, val, curve = calculate_expected_profit(df_labels=df_test[['numero_de_cliente','true_class']], \n",
    "                                             df_predictions=df_pred_test_ra[['numero_de_cliente','avg_prob_lin']], \n",
    "                                             step=STEP,\n",
    "                                             target_col='avg_prob_lin',\n",
    "                                             class_col='true_class')\n",
    "print('Random 20 adjusted true labels (linreg)', val)\n",
    "df_curves.loc[len(df_curves.index)] = ['Random 20 true (linreg)', val, curve]"
   ]
  },
  {
   "cell_type": "code",
   "execution_count": null,
   "id": "1a8da2a2",
   "metadata": {},
   "outputs": [],
   "source": [
    "#Adjust number of sent\n",
    "STEP = 100\n",
    "step, val, curve = calculate_expected_profit(df_labels=df_test[['numero_de_cliente','class']], \n",
    "                                             df_predictions=df_pred_test_ra[['numero_de_cliente','avg_prob_lin']], \n",
    "                                             step=STEP,\n",
    "                                             target_col='avg_prob_lin',\n",
    "                                             class_col='class')\n",
    "print('Random 20 adjusted binary labels (linreg)', val)\n",
    "df_curves.loc[len(df_curves.index)] = ['Random 20 binary (linreg)', val, curve]"
   ]
  },
  {
   "cell_type": "markdown",
   "id": "e46066fe",
   "metadata": {},
   "source": [
    "# Genetic ensemble"
   ]
  },
  {
   "cell_type": "code",
   "execution_count": null,
   "id": "13543e06",
   "metadata": {},
   "outputs": [],
   "source": [
    "creator.create(\"Fitness\", base.Fitness, weights=(1.0,)) \n",
    "creator.create(\"Individual\", list, fitness=creator.Fitness)"
   ]
  },
  {
   "cell_type": "code",
   "execution_count": null,
   "id": "ef137991",
   "metadata": {},
   "outputs": [],
   "source": [
    "#logging\n",
    "log_evo = []\n",
    "def evaluate(individual):\n",
    "    #model\n",
    "    print(individual)\n",
    "    model = lgb.LGBMClassifier(\n",
    "                                boosting_type='gbdt',\n",
    "                                eval_metric='cross_entropy_lambda',\n",
    "                                num_leaves=int(individual[0]),\n",
    "                                max_depth=int(individual[1]),\n",
    "                                n_estimators=int(individual[2]),\n",
    "                                colsample_bytree=min(1,individual[3]),\n",
    "                                learning_rate=1, \n",
    "                                random_state=42,\n",
    "                                zero_as_missing=True,\n",
    "                                class_weight='balanced',\n",
    "                                objective='binary', \n",
    "                                verbosity=-1,\n",
    "                                reg_alpha=individual[4],\n",
    "                                reg_lambda=individual[5]\n",
    "                              )\n",
    "    #train\n",
    "    model.fit(\n",
    "                df_train.drop(['numero_de_cliente',\n",
    "                               'foto_mes',\n",
    "                               'class',\n",
    "                               'true_class'], axis=1), \n",
    "                df_train['class']\n",
    "             )\n",
    "    #predict\n",
    "    df_pred = df_val[['numero_de_cliente']]\n",
    "    df_pred['prob_target'] = model.predict_proba(df_val.drop(['numero_de_cliente',\n",
    "                                                              'foto_mes',\n",
    "                                                              'class',\n",
    "                                                              'true_class'], axis=1))[:,1]\n",
    "    step, val, curve = calculate_expected_profit(df_labels=df_val[['numero_de_cliente',\n",
    "                                                                   'true_class']], \n",
    "                                             df_predictions=df_pred, \n",
    "                                             step=100,\n",
    "                                             target_col='prob_target',\n",
    "                                             class_col='true_class')\n",
    "    \n",
    "    #validation values\n",
    "    log_evo.append(curve)\n",
    "    fitness_value = val\n",
    "    return fitness_value,"
   ]
  },
  {
   "cell_type": "code",
   "execution_count": null,
   "id": "8c140bac",
   "metadata": {},
   "outputs": [],
   "source": [
    "def crossover_with_constraints(ind1, ind2, alpha):\n",
    "    def clamp(min_value, max_value, x):\n",
    "        return max(min(x, max_value), min_value)\n",
    "\n",
    "\n",
    "    child1, child2 = tools.cxBlend(ind1, ind2, alpha)\n",
    "\n",
    "    child1[0] = int(clamp(space['NUM_LEAVES'][0], space['NUM_LEAVES'][1], child1[0]))\n",
    "    child1[1] = int(clamp(space['MAX_DEPTH'][0], space['MAX_DEPTH'][1], child1[1]))\n",
    "    child1[2] = int(clamp(space['N_ESTIMATORS'][0], space['N_ESTIMATORS'][1], child1[2]))\n",
    "    child1[3] = float(clamp(space['COLSAMPLE_BYTREE'][0], space['COLSAMPLE_BYTREE'][1], child1[3]))\n",
    "    child1[4] = float(clamp(space['REG_ALPHA'][0], space['REG_ALPHA'][1], child1[4]))\n",
    "    child1[5] = float(clamp(space['REG_LAMBDA'][0], space['REG_LAMBDA'][1], child1[5]))\n",
    "\n",
    "    child2[0] = int(clamp(space['NUM_LEAVES'][0], space['NUM_LEAVES'][1], child2[0]))\n",
    "    child2[1] = int(clamp(space['MAX_DEPTH'][0], space['MAX_DEPTH'][1], child2[1]))\n",
    "    child2[2] = int(clamp(space['N_ESTIMATORS'][0], space['N_ESTIMATORS'][1], child2[2]))\n",
    "    child2[3] = float(clamp(space['COLSAMPLE_BYTREE'][0], space['COLSAMPLE_BYTREE'][1], child2[3]))\n",
    "    child2[4] = float(clamp(space['REG_ALPHA'][0], space['REG_ALPHA'][1], child2[4]))\n",
    "    child2[5] = float(clamp(space['REG_LAMBDA'][0], space['REG_LAMBDA'][1], child2[5]))\n",
    "        \n",
    "    return child1, child2"
   ]
  },
  {
   "cell_type": "code",
   "execution_count": null,
   "id": "0ff14f04",
   "metadata": {},
   "outputs": [],
   "source": [
    "def mutate_with_constraints(ind, mu, sigma, indpb):\n",
    "    def clamp(min_value, max_value, x):\n",
    "        return max(min(x, max_value), min_value)\n",
    "    # Создаем копию индивида для мутации\n",
    "    mutant = toolbox.clone(ind)\n",
    "\n",
    "    # Применяем мутацию с гауссовским шумом\n",
    "    tools.mutGaussian(mutant, mu, sigma, indpb)\n",
    "\n",
    "    # Применяем ограничения к параметрам мутанта\n",
    "    mutant[0] = int(clamp(space['NUM_LEAVES'][0], space['NUM_LEAVES'][1], mutant[0]))\n",
    "    mutant[1] = int(clamp(space['MAX_DEPTH'][0], space['MAX_DEPTH'][1], mutant[1]))\n",
    "    mutant[2] = int(clamp(space['N_ESTIMATORS'][0], space['N_ESTIMATORS'][1], mutant[2]))\n",
    "    mutant[3] = float(clamp(space['COLSAMPLE_BYTREE'][0], space['COLSAMPLE_BYTREE'][1], mutant[3]))\n",
    "    mutant[4] = float(clamp(space['REG_ALPHA'][0], space['REG_ALPHA'][1], mutant[4]))\n",
    "    mutant[5] = float(clamp(space['REG_LAMBDA'][0], space['REG_LAMBDA'][1], mutant[5]))\n",
    "\n",
    "    return mutant,"
   ]
  },
  {
   "cell_type": "code",
   "execution_count": null,
   "id": "e9602b19",
   "metadata": {},
   "outputs": [],
   "source": [
    "#setting up DEAP\n",
    "toolbox = base.Toolbox()\n",
    "AttrSet = []\n",
    "for param in space.keys():\n",
    "    if param in ['MAX_DEPTH','N_ESTIMATORS','NUM_LEAVES']:\n",
    "        toolbox.register(param, random.randint, space[param][0], space[param][1])\n",
    "    elif param in ['COLSAMPLE_BYTREE','REG_ALPHA','REG_LAMBDA']:\n",
    "        toolbox.register(param, random.uniform, space[param][0], space[param][1])\n",
    "    AttrSet.append(getattr(toolbox, param))\n",
    "\n",
    "toolbox.register(\"individual\", \n",
    "                 tools.initCycle, \n",
    "                 creator.Individual,\n",
    "                 (toolbox.NUM_LEAVES,\n",
    "                  toolbox.MAX_DEPTH,\n",
    "                  toolbox.N_ESTIMATORS,\n",
    "                  toolbox.COLSAMPLE_BYTREE,   \n",
    "                  toolbox.REG_ALPHA, \n",
    "                  toolbox.REG_LAMBDA), \n",
    "                 1)\n",
    "toolbox.register(\"population\", tools.initRepeat, list, toolbox.individual)\n",
    "toolbox.register(\"mate\", crossover_with_constraints, alpha=0.5)\n",
    "toolbox.register(\"mutate\", mutate_with_constraints, mu=0, sigma=1, indpb=0.2)\n",
    "toolbox.register(\"select\", tools.selNSGA2)  # Selection\n",
    "toolbox.register(\"evaluate\", evaluate)"
   ]
  },
  {
   "cell_type": "code",
   "execution_count": null,
   "id": "457e4f4f",
   "metadata": {},
   "outputs": [],
   "source": [
    "population = toolbox.population(n=10)"
   ]
  },
  {
   "cell_type": "markdown",
   "id": "a486d7f7",
   "metadata": {},
   "source": [
    "#target function to maximize and curves\n",
    "def calculate_expected_profit(df_labels, df_predictions, step=100, target_col='prob_target',class_col='class'):\n",
    "    curve = []\n",
    "    max_value = 0\n",
    "    max_step = -1\n",
    "    df_comb = df_labels.merge(df_predictions, left_on='numero_de_cliente', right_on='numero_de_cliente')\n",
    "    df_comb.sort_values(target_col, ascending=False, inplace=True)\n",
    "    for i in range(len(df_comb) // step + 1):\n",
    "        curve.append((i,sum(df_comb[class_col].iloc[:min(i*step,len(df_comb))])*280000 - min(i*step,len(df_comb)) * 7000))\n",
    "        if max_value < sum(df_comb[class_col].iloc[:min(i*step,len(df_comb))])*280000 - min(i*step,len(df_comb)) * 7000:\n",
    "            max_value = sum(df_comb[class_col].iloc[:min(i*step,len(df_comb))])*280000 - min(i*step,len(df_comb)) * 7000\n",
    "            max_step = i\n",
    "    return max_step, max_value, curve"
   ]
  },
  {
   "cell_type": "code",
   "execution_count": null,
   "id": "ed3d39f6",
   "metadata": {
    "scrolled": true
   },
   "outputs": [],
   "source": [
    "random.seed(SEED)\n",
    "for pop in tqdm(population):\n",
    "    pop.fitness.values = evaluate(pop)"
   ]
  },
  {
   "cell_type": "code",
   "execution_count": null,
   "id": "f9211570",
   "metadata": {},
   "outputs": [],
   "source": [
    "#evo alg\n",
    "#20 best models\n",
    "halloffame = tools.HallOfFame(20)\n",
    "generations = 10\n",
    "for gen in tqdm(range(generations), desc=\"Evolving\"):\n",
    "    algorithms.eaMuPlusLambda(population, toolbox, mu=10, lambda_=20, cxpb=0.7, mutpb=0.2, ngen=1, stats=None, halloffame=halloffame)\n",
    "    \n",
    "# Вывод 20 лучших образцов\n",
    "print(\"Top 20 individuals:\")\n",
    "for ind in halloffame:\n",
    "    print(\"Params:\", ind)\n",
    "    print(\"Fitness:\", ind.fitness.values)"
   ]
  },
  {
   "cell_type": "code",
   "execution_count": null,
   "id": "33941849",
   "metadata": {},
   "outputs": [],
   "source": [
    "#df with outputs\n",
    "df_pred_val_gen = df_val[['numero_de_cliente']]\n",
    "df_pred_test_gen = df_test[['numero_de_cliente']]\n",
    "\n",
    "features = []\n",
    "\n",
    "#generate random models\n",
    "random.seed(42)\n",
    "i = 0\n",
    "for ind in halloffame:\n",
    "    \n",
    "    model = lgb.LGBMClassifier(\n",
    "                                boosting_type='gbdt',\n",
    "                                eval_metric='cross_entropy_lambda',\n",
    "                                num_leaves=int(ind[0]),\n",
    "                                max_depth=int(ind[1]),\n",
    "                                n_estimators=int(ind[2]),\n",
    "                                colsample_bytree=min(1,ind[3]),\n",
    "                                learning_rate=1, \n",
    "                                random_state=42,\n",
    "                                zero_as_missing=True,\n",
    "                                class_weight='balanced',\n",
    "                                objective='binary', \n",
    "                                verbosity=-1,\n",
    "                                reg_alpha=ind[4],\n",
    "                                reg_lambda=ind[5]\n",
    "                              )\n",
    "    #train\n",
    "    model.fit(\n",
    "                df_train.drop(['numero_de_cliente',\n",
    "                               'foto_mes',\n",
    "                               'class',\n",
    "                               'true_class'], axis=1), \n",
    "                df_train['class']\n",
    "             )\n",
    "    \n",
    "    #predict\n",
    "    features.append(f'prob_target_{i}')\n",
    "    df_pred_val_gen[f'prob_target_{i}'] = model.predict_proba(df_val.drop(['numero_de_cliente',\n",
    "                                                                             'foto_mes',\n",
    "                                                                             'class',\n",
    "                                                                             'true_class'], axis=1))[:,1]\n",
    "    \n",
    "    #predict test\n",
    "    df_pred_test_gen[f'prob_target_{i}'] = model.predict_proba(df_test.drop(['numero_de_cliente',\n",
    "                                                                               'foto_mes',\n",
    "                                                                               'class',\n",
    "                                                                               'true_class'], axis=1))[:,1]\n",
    "    i += 1"
   ]
  },
  {
   "cell_type": "code",
   "execution_count": null,
   "id": "49a35218",
   "metadata": {},
   "outputs": [],
   "source": [
    "STEP = 100\n",
    "\n",
    "df_pred_val_gen['avg_prob'] = sum([df_pred_val_gen[f'prob_target_{i}'] for i in range(20)]) / len(range(20))\n",
    "df_pred_test_gen['avg_prob'] = sum([df_pred_test_gen[f'prob_target_{i}'] for i in range(20)]) / len(range(20))"
   ]
  },
  {
   "cell_type": "code",
   "execution_count": null,
   "id": "082f1048",
   "metadata": {},
   "outputs": [],
   "source": [
    "#Adjust number of sent\n",
    "STEP = 100\n",
    "step, val, curve = calculate_expected_profit(df_labels=df_test[['numero_de_cliente','true_class']], \n",
    "                                             df_predictions=df_pred_test_gen[['numero_de_cliente','avg_prob']], \n",
    "                                             step=STEP,\n",
    "                                             target_col='avg_prob',\n",
    "                                             class_col='true_class')\n",
    "print('Genetic 20 adjusted true labels', val)\n",
    "df_curves.loc[len(df_curves.index)] = ['Genetic 20 true', val, curve]"
   ]
  },
  {
   "cell_type": "code",
   "execution_count": null,
   "id": "10030aa6",
   "metadata": {},
   "outputs": [],
   "source": [
    "#Adjust number of sent\n",
    "STEP = 100\n",
    "step, val, curve = calculate_expected_profit(df_labels=df_test[['numero_de_cliente','class']], \n",
    "                                             df_predictions=df_pred_test_gen[['numero_de_cliente','avg_prob']], \n",
    "                                             step=STEP,\n",
    "                                             target_col='avg_prob',\n",
    "                                             class_col='class')\n",
    "print('Genetic 20 adjusted binary labels', val)\n",
    "df_curves.loc[len(df_curves.index)] = ['Genetic 20 binary', val, curve]"
   ]
  },
  {
   "cell_type": "code",
   "execution_count": null,
   "id": "ff21c382",
   "metadata": {},
   "outputs": [],
   "source": [
    "df_curves = df_curves.sort_values('experiment')"
   ]
  },
  {
   "cell_type": "code",
   "execution_count": null,
   "id": "cc33b606",
   "metadata": {},
   "outputs": [],
   "source": [
    "df_curves.to_csv('df_curves.csv')"
   ]
  },
  {
   "cell_type": "markdown",
   "id": "315f2c15",
   "metadata": {},
   "source": [
    "# Curves for all models"
   ]
  },
  {
   "cell_type": "code",
   "execution_count": null,
   "id": "b0b029ba",
   "metadata": {},
   "outputs": [],
   "source": [
    "\n",
    "legend = []\n",
    "plt.figure(figsize=(10,6))\n",
    "for index, row in df_curves.loc[df_curves['experiment'].str.contains('binary')].iterrows():\n",
    "    experiment_name = row['experiment']\n",
    "    legend.append(experiment_name)\n",
    "    point_value = ' '.join([str(row['point value'] / 1000000),'millions'])\n",
    "    curve_data = row['curve']\n",
    "\n",
    "    x, y = zip(*curve_data[:300])\n",
    "    \n",
    "    y = [val / 1000000 for val in y]\n",
    "    x = [val * 100 for val in x]\n",
    "\n",
    "    plt.plot(x, y\n",
    "            )\n",
    "\n",
    "\n",
    "plt.legend(legend)\n",
    "plt.xlabel('Envios')\n",
    "plt.ylabel('Function Value, millions')\n",
    "\n",
    "plt.show()"
   ]
  },
  {
   "cell_type": "code",
   "execution_count": null,
   "id": "e7cca2b5",
   "metadata": {},
   "outputs": [],
   "source": [
    "\n",
    "legend = []\n",
    "plt.figure(figsize=(10,6))\n",
    "for index, row in df_curves.loc[df_curves['experiment'].str.contains('true')].iterrows():\n",
    "    experiment_name = row['experiment']\n",
    "    legend.append(experiment_name)\n",
    "    point_value = ' '.join([str(row['point value'] / 1000000),'millions'])\n",
    "    curve_data = row['curve']\n",
    "\n",
    "    x, y = zip(*curve_data[:300])\n",
    "    \n",
    "    y = [val / 1000000 for val in y]\n",
    "    x = [val * 100 for val in x]\n",
    "\n",
    "    \n",
    "\n",
    "    plt.plot(x, y\n",
    "            )\n",
    "\n",
    "\n",
    "plt.legend(legend, loc=4)\n",
    "plt.xlabel('Envios')\n",
    "plt.ylabel('Function Value, millions')\n",
    "\n",
    "plt.show()"
   ]
  },
  {
   "cell_type": "code",
   "execution_count": null,
   "id": "57b64c38",
   "metadata": {},
   "outputs": [],
   "source": [
    "df_curves.to_csv('df_curves_baseline.csv')"
   ]
  },
  {
   "cell_type": "code",
   "execution_count": null,
   "id": "a78b5d4d",
   "metadata": {},
   "outputs": [],
   "source": []
  }
 ],
 "metadata": {
  "kernelspec": {
   "display_name": "Python 3 (ipykernel)",
   "language": "python",
   "name": "python3"
  },
  "language_info": {
   "codemirror_mode": {
    "name": "ipython",
    "version": 3
   },
   "file_extension": ".py",
   "mimetype": "text/x-python",
   "name": "python",
   "nbconvert_exporter": "python",
   "pygments_lexer": "ipython3",
   "version": "3.11.4"
  }
 },
 "nbformat": 4,
 "nbformat_minor": 5
}
