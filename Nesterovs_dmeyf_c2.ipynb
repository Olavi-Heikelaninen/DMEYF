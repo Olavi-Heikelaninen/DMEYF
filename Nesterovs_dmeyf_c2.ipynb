{
 "cells": [
  {
   "cell_type": "code",
   "execution_count": 1,
   "metadata": {},
   "outputs": [],
   "source": [
    "import polars as pl\n",
    "import numpy as np\n",
    "import requests\n",
    "import pandas as pd\n",
    "from xgboost import XGBClassifier\n",
    "import sklearn.metrics as metrics\n",
    "from sklearn.metrics import accuracy_score\n",
    "from numpy import argmax\n",
    "from sklearn.model_selection import train_test_split\n",
    "import matplotlib.pyplot as plt\n",
    "from sklearn.metrics import precision_recall_curve\n",
    "from hyperopt import STATUS_OK, Trials, fmin, hp, tpe"
   ]
  },
  {
   "cell_type": "code",
   "execution_count": 2,
   "metadata": {},
   "outputs": [],
   "source": [
    "url = 'https://storage.googleapis.com/open-courses/dmeyf2023-8a1e/competencia_02_crudo.csv.gz'\n",
    "r = requests.get(url, allow_redirects=True)"
   ]
  },
  {
   "cell_type": "code",
   "execution_count": 3,
   "metadata": {},
   "outputs": [],
   "source": [
    "with open('dataset.csv.gz', 'wb') as file:\n",
    "    file.write(r.content)"
   ]
  },
  {
   "cell_type": "code",
   "execution_count": 4,
   "metadata": {},
   "outputs": [],
   "source": [
    "!gunzip dataset.csv.gz"
   ]
  },
  {
   "cell_type": "code",
   "execution_count": 11,
   "metadata": {},
   "outputs": [
    {
     "name": "stdout",
     "output_type": "stream",
     "text": [
      "CPU times: user 39.1 s, sys: 37.3 s, total: 1min 16s\n",
      "Wall time: 1.55 s\n"
     ]
    }
   ],
   "source": [
    "%%time\n",
    "\n",
    "df = pl.read_csv('dataset.csv', infer_schema_length=10000)"
   ]
  },
  {
   "cell_type": "code",
   "execution_count": 12,
   "metadata": {},
   "outputs": [],
   "source": [
    "min_val_dict = (\n",
    "    df.select(\n",
    "        pl.col(pl.Int64).min()\n",
    "    )\n",
    ").to_dict()\n",
    "max_val_dict = (\n",
    "    df.select(\n",
    "        pl.col(pl.Int64).max()\n",
    "    )\n",
    ").to_dict()\n",
    "\n",
    "bool_cols = []\n",
    "\n",
    "uint8_cols = []\n",
    "uint16_cols = []\n",
    "uint32_cols = []\n",
    "uint64_cols = []\n",
    "\n",
    "int8_cols = []\n",
    "int16_cols = []\n",
    "int32_cols = []\n",
    "int64_cols = []\n",
    "\n",
    "for k in min_val_dict.keys():\n",
    "    if min_val_dict[k][0]==0 and max_val_dict[k][0]==1:\n",
    "        bool_cols.append(k)\n",
    "    elif min_val_dict[k][0]>=0 and max_val_dict[k][0]<=255:\n",
    "        uint8_cols.append(k)\n",
    "    elif min_val_dict[k][0]>=0 and max_val_dict[k][0]<=65535:\n",
    "        uint16_cols.append(k)\n",
    "    elif min_val_dict[k][0]>=0 and max_val_dict[k][0]<=4294967295:\n",
    "        uint32_cols.append(k)\n",
    "    elif min_val_dict[k][0]>=0:\n",
    "        uint64_cols.append(k)\n",
    "    elif min_val_dict[k][0]>=-128 and max_val_dict[k][0]<=127:\n",
    "        int8_cols.append(k)\n",
    "    elif min_val_dict[k][0]>=-32768 and max_val_dict[k][0]<=32767:\n",
    "        int16_cols.append(k)\n",
    "    elif min_val_dict[k][0]>=-2147483648 and max_val_dict[k][0]<=2147483647:\n",
    "        int32_cols.append(k)\n",
    "    else:\n",
    "        print(f'Int64? {k}, min={min_val_dict[k][0]}, max={max_val_dict[k][0]}')\n",
    "        int64_cols.append(k)"
   ]
  },
  {
   "cell_type": "code",
   "execution_count": 13,
   "metadata": {},
   "outputs": [
    {
     "data": {
      "text/plain": [
       "[8, 44, 20, 2, 0, 0, 3, 2, 0]"
      ]
     },
     "execution_count": 13,
     "metadata": {},
     "output_type": "execute_result"
    }
   ],
   "source": [
    "all_int_cols = [bool_cols,\n",
    "                uint8_cols,\n",
    "                uint16_cols,\n",
    "                uint32_cols,\n",
    "                uint64_cols,\n",
    "                int8_cols,\n",
    "                int16_cols,\n",
    "                int32_cols,\n",
    "                int64_cols\n",
    "               ]\n",
    "\n",
    "[len(x) for x in all_int_cols]"
   ]
  },
  {
   "cell_type": "code",
   "execution_count": 14,
   "metadata": {},
   "outputs": [
    {
     "name": "stdout",
     "output_type": "stream",
     "text": [
      "1929811096\n"
     ]
    }
   ],
   "source": [
    "df = df.with_columns(\n",
    "    [\n",
    "        pl.col(pl.Float64).cast(pl.Float32),\n",
    "        pl.col(bool_cols).cast(pl.Boolean),\n",
    "        pl.col(uint8_cols).cast(pl.UInt8),\n",
    "        pl.col(uint16_cols).cast(pl.UInt16),\n",
    "        pl.col(uint32_cols).cast(pl.UInt32),\n",
    "        pl.col(uint64_cols).cast(pl.UInt64),\n",
    "        pl.col(int8_cols).cast(pl.Int8),\n",
    "        pl.col(int16_cols).cast(pl.Int16),\n",
    "        pl.col(int32_cols).cast(pl.Int32),\n",
    "        pl.col(int64_cols).cast(pl.Int64),\n",
    "    ]\n",
    ")\n",
    "print(df.estimated_size())\n",
    "df.write_parquet('crude_dataset.parquet')"
   ]
  },
  {
   "cell_type": "code",
   "execution_count": 15,
   "metadata": {},
   "outputs": [],
   "source": [
    "# df = pl.read_parquet('crude_dataset.parquet')\n",
    "\n",
    "month_ranking = list(df.select(pl.col('foto_mes').unique())['foto_mes'])\n",
    "month_ranking = {el:i for i, el in enumerate(month_ranking)}"
   ]
  },
  {
   "cell_type": "code",
   "execution_count": 16,
   "metadata": {},
   "outputs": [
    {
     "name": "stderr",
     "output_type": "stream",
     "text": [
      "/tmp/ipykernel_2377117/1147081848.py:2: DeprecationWarning: `groupby` is deprecated. It has been renamed to `group_by`.\n",
      "  df\n"
     ]
    }
   ],
   "source": [
    "x=(\n",
    "    df\n",
    "    .groupby(\"numero_de_cliente\", maintain_order=True)\n",
    "    .max()\n",
    "    .select(\n",
    "        [\n",
    "            pl.col('numero_de_cliente'), \n",
    "            pl.col('foto_mes').alias('last_month')\n",
    "        ]\n",
    "    )\n",
    ")\n",
    "df = df.join(x, on=\"numero_de_cliente\")"
   ]
  },
  {
   "cell_type": "code",
   "execution_count": 17,
   "metadata": {},
   "outputs": [
    {
     "name": "stderr",
     "output_type": "stream",
     "text": [
      "/tmp/ipykernel_2377117/1515679372.py:5: DeprecationWarning: `apply` is deprecated. It has been renamed to `map_elements`.\n",
      "  pl.col('foto_mes').apply(function=lambda x: month_ranking[x],return_dtype=pl.UInt8).alias('month_rk'),\n",
      "/tmp/ipykernel_2377117/1515679372.py:5: PolarsInefficientMapWarning: \n",
      "Expr.map_elements is significantly slower than the native expressions API.\n",
      "Only use if you absolutely CANNOT implement your logic otherwise.\n",
      "In this case, you can replace your `map_elements` with the following:\n",
      "  - pl.col(\"foto_mes\").map_elements(lambda x: ...)\n",
      "  + pl.col(\"foto_mes\").map_dict(month_ranking)\n",
      "\n",
      "  pl.col('foto_mes').apply(function=lambda x: month_ranking[x],return_dtype=pl.UInt8).alias('month_rk'),\n",
      "/tmp/ipykernel_2377117/1515679372.py:6: DeprecationWarning: `apply` is deprecated. It has been renamed to `map_elements`.\n",
      "  pl.col('last_month').apply(function=lambda x: month_ranking[x],return_dtype=pl.UInt8).alias('lm_rk')\n",
      "/tmp/ipykernel_2377117/1515679372.py:6: PolarsInefficientMapWarning: \n",
      "Expr.map_elements is significantly slower than the native expressions API.\n",
      "Only use if you absolutely CANNOT implement your logic otherwise.\n",
      "In this case, you can replace your `map_elements` with the following:\n",
      "  - pl.col(\"last_month\").map_elements(lambda x: ...)\n",
      "  + pl.col(\"last_month\").map_dict(month_ranking)\n",
      "\n",
      "  pl.col('last_month').apply(function=lambda x: month_ranking[x],return_dtype=pl.UInt8).alias('lm_rk')\n",
      "/tmp/ipykernel_2377117/1515679372.py:12: DeprecationWarning: in a future version, string input will be parsed as a column name rather than a string literal. To silence this warning, pass the input as an expression instead: `pl.lit('C')`\n",
      "  pl.when(pl.col(\"foto_mes\")==202107)\n",
      "/tmp/ipykernel_2377117/1515679372.py:12: DeprecationWarning: in a future version, string input will be parsed as a column name rather than a string literal. To silence this warning, pass the input as an expression instead: `pl.lit('B2')`\n",
      "  pl.when(pl.col(\"foto_mes\")==202107)\n"
     ]
    }
   ],
   "source": [
    "df = (\n",
    "    df.select(\n",
    "        [\n",
    "            pl.all(),\n",
    "            pl.col('foto_mes').apply(function=lambda x: month_ranking[x],return_dtype=pl.UInt8).alias('month_rk'),\n",
    "            pl.col('last_month').apply(function=lambda x: month_ranking[x],return_dtype=pl.UInt8).alias('lm_rk')\n",
    "        ]\n",
    "    ).select(\n",
    "        [pl.all(),\n",
    "        (pl.col('lm_rk')-pl.col('month_rk')).alias('month_diff')]\n",
    "    ).with_columns(\n",
    "        pl.when(pl.col(\"foto_mes\")==202107)\n",
    "        .then('C')\n",
    "        .when(pl.col(\"month_diff\")==0)\n",
    "        .then('B2')\n",
    "        .when((pl.col(\"month_diff\")==1) & (pl.col(\"foto_mes\")!=202106))\n",
    "        .then('B2')\n",
    "        .otherwise('C')\n",
    "        .alias(\"target\")\n",
    "    )\n",
    ")\n",
    "\n",
    "df = df.drop(['last_month','month_rk','lm_rk','month_diff'])"
   ]
  },
  {
   "cell_type": "code",
   "execution_count": 19,
   "metadata": {},
   "outputs": [],
   "source": [
    "df = df.with_columns(\n",
    "    pl.when(pl.col(pl.Float32) != 0)\n",
    "        .then(pl.col(pl.Float32))\n",
    "        .keep_name()\n",
    ")"
   ]
  },
  {
   "cell_type": "code",
   "execution_count": 20,
   "metadata": {},
   "outputs": [],
   "source": [
    "float_cols = (\n",
    "    df.select(\n",
    "        pl.col(pl.Float32)\n",
    "    )\n",
    ").to_dict().keys()\n",
    "float_cols = list(float_cols)"
   ]
  },
  {
   "cell_type": "code",
   "execution_count": 21,
   "metadata": {},
   "outputs": [
    {
     "name": "stdout",
     "output_type": "stream",
     "text": [
      "CPU times: user 29min 26s, sys: 26.1 s, total: 29min 52s\n",
      "Wall time: 1min 9s\n"
     ]
    }
   ],
   "source": [
    "%%time\n",
    "\n",
    "df = df.with_columns([\n",
    "    pl.col(pl.Float32).shift(1).over(\"numero_de_cliente\").suffix(\"_lag1\"),\n",
    "    pl.col(pl.Float32).shift(2).over(\"numero_de_cliente\").suffix(\"_lag2\"),\n",
    "    pl.col(pl.Float32).shift(3).over(\"numero_de_cliente\").suffix(\"_lag3\"),\n",
    "])"
   ]
  },
  {
   "cell_type": "code",
   "execution_count": 22,
   "metadata": {},
   "outputs": [],
   "source": [
    "df.write_parquet('data_prepared.parquet')"
   ]
  },
  {
   "cell_type": "code",
   "execution_count": 34,
   "metadata": {},
   "outputs": [
    {
     "name": "stdout",
     "output_type": "stream",
     "text": [
      "CPU times: user 19 s, sys: 1min 26s, total: 1min 45s\n",
      "Wall time: 25 s\n"
     ]
    }
   ],
   "source": [
    "%%time\n",
    "\n",
    "# Dataset for hyperparameter tuning\n",
    "X = df.select(pl.all().exclude('target'))\n",
    "y = df.select([pl.col('target'), pl.col('foto_mes')])\n",
    "\n",
    "X_val = X.filter((pl.col('foto_mes')==202002) | (pl.col('foto_mes')==202003) | (pl.col('foto_mes')==202004))\n",
    "X_train = X.filter(pl.col('foto_mes')<=202001)\n",
    "\n",
    "X_val = X_val.select(pl.all().exclude(['foto_mes', 'numero_de_cliente'])).to_numpy()\n",
    "X_train = X_train.select(pl.all().exclude(['foto_mes', 'numero_de_cliente'])).to_numpy()\n",
    "\n",
    "y_val = y.filter((pl.col('foto_mes')==202002) | (pl.col('foto_mes')==202003) | (pl.col('foto_mes')==202004))\n",
    "y_train = y.filter(pl.col('foto_mes')<=202001)\n",
    "\n",
    "y_val =  y_val.select(pl.all().exclude('foto_mes')).to_numpy()\n",
    "y_train = y_train.select(pl.all().exclude('foto_mes')).to_numpy()\n",
    "\n",
    "y_train = y_train.reshape(y_train.shape[0])\n",
    "y_val = y_val.reshape(y_val.shape[0])\n",
    "y_train = np.where(y_train=='B2', 1, 0)\n",
    "y_val = np.where(y_val=='B2', 1, 0)"
   ]
  },
  {
   "cell_type": "code",
   "execution_count": 36,
   "metadata": {},
   "outputs": [
    {
     "data": {
      "text/plain": [
       "((1717837, 371), (445324, 371), (1717837, 1), (445324, 1))"
      ]
     },
     "execution_count": 36,
     "metadata": {},
     "output_type": "execute_result"
    }
   ],
   "source": [
    "X_train.shape, X_val.shape, y_train.shape, y_val.shape"
   ]
  },
  {
   "cell_type": "code",
   "execution_count": 79,
   "metadata": {},
   "outputs": [],
   "source": [
    "# Hyperparameter tuning\n",
    "\n",
    "space={'max_depth': hp.quniform(\"max_depth\", 3, 18, 1),\n",
    "    'gamma': hp.uniform ('gamma', 1,9),\n",
    "    'reg_alpha' : hp.quniform('reg_alpha', 40,180,1),\n",
    "    'reg_lambda' : hp.uniform('reg_lambda', 0,1),\n",
    "    'colsample_bytree' : hp.uniform('colsample_bytree', 0.5,1),\n",
    "    'min_child_weight' : hp.quniform('min_child_weight', 0, 10, 1),\n",
    "    'n_estimators': hp.uniform('n_estimators', 500, 1200),\n",
    "    'scale_pos_weight': hp.quniform(\"scale_pos_weight\", 1, 25, 1),\n",
    "}\n",
    "\n",
    "def objective(space):\n",
    "    clf=XGBClassifier(eval_metric=\"aucpr\",\n",
    "                    n_estimators = int(space['n_estimators']), \n",
    "                    max_depth = int(space['max_depth']), \n",
    "                    gamma = space['gamma'],\n",
    "                    reg_alpha = int(space['reg_alpha']),\n",
    "                    min_child_weight=int(space['min_child_weight']),\n",
    "                    colsample_bytree=int(space['colsample_bytree']),\n",
    "                    scale_pos_weight = int(space['scale_pos_weight']), \n",
    "                    tree_method=\"hist\",\n",
    "     )\n",
    "    \n",
    "    evaluation = [( X_train, y_train), ( X_val, y_val)]\n",
    "    \n",
    "    clf.fit(X_train, y_train, eval_set=evaluation, early_stopping_rounds=10,verbose=False)\n",
    "    \n",
    "    probs = clf.predict_proba(X_val)\n",
    "    preds = probs[:,1]\n",
    "    \n",
    "    fpr, tpr, threshold = metrics.roc_curve(y_val, preds, pos_label=1)\n",
    "    roc_auc = metrics.auc(fpr, tpr)\n",
    "    precision, recall, thresholds = metrics.precision_recall_curve(y_val, preds, pos_label=1)\n",
    "    beta = 1.5\n",
    "    fbeta = ((1+beta**2) * precision * recall) / ((beta**2) * precision + recall+0.000001)\n",
    "    ix = argmax(fbeta)\n",
    "    print(f'Best Threshold={thresholds[ix]}, F-Score={fbeta[ix]}, recall={recall[ix]}, precision={precision[ix]}')\n",
    "    return {'loss': -fbeta[ix], 'status': STATUS_OK }"
   ]
  },
  {
   "cell_type": "code",
   "execution_count": 80,
   "metadata": {},
   "outputs": [
    {
     "name": "stdout",
     "output_type": "stream",
     "text": [
      "  0%|                                                                           | 0/150 [00:00<?, ?trial/s, best loss=?]"
     ]
    },
    {
     "name": "stderr",
     "output_type": "stream",
     "text": [
      "/home/ynesterov/miniconda3/lib/python3.9/site-packages/xgboost/sklearn.py:885: UserWarning: `early_stopping_rounds` in `fit` method is deprecated for better compatibility with scikit-learn, use `early_stopping_rounds` in constructor or`set_params` instead.\n",
      "  warnings.warn(\n",
      "\n"
     ]
    },
    {
     "name": "stdout",
     "output_type": "stream",
     "text": [
      "Best Threshold=0.64475417137146, F-Score=0.24940448558955108, recall=0.368609865470852, precision=0.14436248682824027   \n",
      "  1%|▎                                            | 1/150 [00:58<2:25:14, 58.49s/trial, best loss: -0.24940448558955108]"
     ]
    },
    {
     "name": "stderr",
     "output_type": "stream",
     "text": [
      "/home/ynesterov/miniconda3/lib/python3.9/site-packages/xgboost/sklearn.py:885: UserWarning: `early_stopping_rounds` in `fit` method is deprecated for better compatibility with scikit-learn, use `early_stopping_rounds` in constructor or`set_params` instead.\n",
      "  warnings.warn(\n",
      "\n"
     ]
    },
    {
     "name": "stdout",
     "output_type": "stream",
     "text": [
      "Best Threshold=0.5598704814910889, F-Score=0.2533472420556383, recall=0.35112107623318384, precision=0.15575890192958028\n",
      "  1%|▌                                             | 2/150 [01:55<2:21:46, 57.48s/trial, best loss: -0.2533472420556383]"
     ]
    },
    {
     "name": "stderr",
     "output_type": "stream",
     "text": [
      "/home/ynesterov/miniconda3/lib/python3.9/site-packages/xgboost/sklearn.py:885: UserWarning: `early_stopping_rounds` in `fit` method is deprecated for better compatibility with scikit-learn, use `early_stopping_rounds` in constructor or`set_params` instead.\n",
      "  warnings.warn(\n",
      "\n"
     ]
    },
    {
     "name": "stdout",
     "output_type": "stream",
     "text": [
      "Best Threshold=0.7308235168457031, F-Score=0.24438075978089377, recall=0.3668161434977579, precision=0.1395666268554854 \n",
      "  2%|▉                                             | 3/150 [02:52<2:20:29, 57.34s/trial, best loss: -0.2533472420556383]"
     ]
    },
    {
     "name": "stderr",
     "output_type": "stream",
     "text": [
      "/home/ynesterov/miniconda3/lib/python3.9/site-packages/xgboost/sklearn.py:885: UserWarning: `early_stopping_rounds` in `fit` method is deprecated for better compatibility with scikit-learn, use `early_stopping_rounds` in constructor or`set_params` instead.\n",
      "  warnings.warn(\n",
      "\n"
     ]
    },
    {
     "name": "stdout",
     "output_type": "stream",
     "text": [
      "Best Threshold=0.45390135049819946, F-Score=0.2536737603611303, recall=0.3560538116591928, precision=0.15402521823472357\n",
      "  3%|█▏                                            | 4/150 [03:45<2:15:20, 55.62s/trial, best loss: -0.2536737603611303]"
     ]
    },
    {
     "name": "stderr",
     "output_type": "stream",
     "text": [
      "/home/ynesterov/miniconda3/lib/python3.9/site-packages/xgboost/sklearn.py:885: UserWarning: `early_stopping_rounds` in `fit` method is deprecated for better compatibility with scikit-learn, use `early_stopping_rounds` in constructor or`set_params` instead.\n",
      "  warnings.warn(\n",
      "\n"
     ]
    },
    {
     "name": "stdout",
     "output_type": "stream",
     "text": [
      "Best Threshold=0.7696821093559265, F-Score=0.2490767466289, recall=0.3304932735426009, precision=0.16025222874537942    \n",
      "  3%|█▌                                            | 5/150 [04:44<2:17:06, 56.74s/trial, best loss: -0.2536737603611303]"
     ]
    },
    {
     "name": "stderr",
     "output_type": "stream",
     "text": [
      "/home/ynesterov/miniconda3/lib/python3.9/site-packages/xgboost/sklearn.py:885: UserWarning: `early_stopping_rounds` in `fit` method is deprecated for better compatibility with scikit-learn, use `early_stopping_rounds` in constructor or`set_params` instead.\n",
      "  warnings.warn(\n",
      "\n"
     ]
    },
    {
     "name": "stdout",
     "output_type": "stream",
     "text": [
      "Best Threshold=0.5233562588691711, F-Score=0.2570383334201326, recall=0.33318385650224214, precision=0.16975097098469272\n",
      "  4%|█▊                                            | 6/150 [05:36<2:12:52, 55.36s/trial, best loss: -0.2570383334201326]"
     ]
    },
    {
     "name": "stderr",
     "output_type": "stream",
     "text": [
      "/home/ynesterov/miniconda3/lib/python3.9/site-packages/xgboost/sklearn.py:885: UserWarning: `early_stopping_rounds` in `fit` method is deprecated for better compatibility with scikit-learn, use `early_stopping_rounds` in constructor or`set_params` instead.\n",
      "  warnings.warn(\n",
      "\n"
     ]
    },
    {
     "name": "stdout",
     "output_type": "stream",
     "text": [
      "Best Threshold=0.6886218786239624, F-Score=0.2504788721822231, recall=0.3515695067264574, precision=0.15208535402521822 \n",
      "  5%|██▏                                           | 7/150 [06:35<2:14:15, 56.33s/trial, best loss: -0.2570383334201326]"
     ]
    },
    {
     "name": "stderr",
     "output_type": "stream",
     "text": [
      "/home/ynesterov/miniconda3/lib/python3.9/site-packages/xgboost/sklearn.py:885: UserWarning: `early_stopping_rounds` in `fit` method is deprecated for better compatibility with scikit-learn, use `early_stopping_rounds` in constructor or`set_params` instead.\n",
      "  warnings.warn(\n",
      "\n"
     ]
    },
    {
     "name": "stdout",
     "output_type": "stream",
     "text": [
      "Best Threshold=0.51445072889328, F-Score=0.25184748142563096, recall=0.36905829596412554, precision=0.14688559700160628 \n",
      "  5%|██▍                                           | 8/150 [07:28<2:11:17, 55.47s/trial, best loss: -0.2570383334201326]"
     ]
    },
    {
     "name": "stderr",
     "output_type": "stream",
     "text": [
      "/home/ynesterov/miniconda3/lib/python3.9/site-packages/xgboost/sklearn.py:885: UserWarning: `early_stopping_rounds` in `fit` method is deprecated for better compatibility with scikit-learn, use `early_stopping_rounds` in constructor or`set_params` instead.\n",
      "  warnings.warn(\n",
      "\n"
     ]
    },
    {
     "name": "stdout",
     "output_type": "stream",
     "text": [
      "Best Threshold=0.6677281856536865, F-Score=0.24489168385821714, recall=0.34977578475336324, precision=0.14623172103487064\n",
      "  6%|██▊                                           | 9/150 [08:25<2:11:28, 55.95s/trial, best loss: -0.2570383334201326]"
     ]
    },
    {
     "name": "stderr",
     "output_type": "stream",
     "text": [
      "/home/ynesterov/miniconda3/lib/python3.9/site-packages/xgboost/sklearn.py:885: UserWarning: `early_stopping_rounds` in `fit` method is deprecated for better compatibility with scikit-learn, use `early_stopping_rounds` in constructor or`set_params` instead.\n",
      "  warnings.warn(\n",
      "\n"
     ]
    },
    {
     "name": "stdout",
     "output_type": "stream",
     "text": [
      "Best Threshold=0.7134615778923035, F-Score=0.2506288243574926, recall=0.36412556053811657, precision=0.14731494920174165\n",
      "  7%|███                                          | 10/150 [09:22<2:11:22, 56.30s/trial, best loss: -0.2570383334201326]"
     ]
    },
    {
     "name": "stderr",
     "output_type": "stream",
     "text": [
      "/home/ynesterov/miniconda3/lib/python3.9/site-packages/xgboost/sklearn.py:885: UserWarning: `early_stopping_rounds` in `fit` method is deprecated for better compatibility with scikit-learn, use `early_stopping_rounds` in constructor or`set_params` instead.\n",
      "  warnings.warn(\n",
      "\n"
     ]
    },
    {
     "name": "stdout",
     "output_type": "stream",
     "text": [
      "Best Threshold=0.7522631287574768, F-Score=0.24394368546137565, recall=0.3452914798206278, precision=0.14691852699866437\n",
      "  7%|███▎                                         | 11/150 [10:16<2:08:36, 55.52s/trial, best loss: -0.2570383334201326]"
     ]
    },
    {
     "name": "stderr",
     "output_type": "stream",
     "text": [
      "/home/ynesterov/miniconda3/lib/python3.9/site-packages/xgboost/sklearn.py:885: UserWarning: `early_stopping_rounds` in `fit` method is deprecated for better compatibility with scikit-learn, use `early_stopping_rounds` in constructor or`set_params` instead.\n",
      "  warnings.warn(\n",
      "\n"
     ]
    },
    {
     "name": "stdout",
     "output_type": "stream",
     "text": [
      "Best Threshold=0.6775510907173157, F-Score=0.250669529101294, recall=0.3291479820627803, precision=0.1631473660813514   \n",
      "  8%|███▌                                         | 12/150 [11:11<2:07:16, 55.34s/trial, best loss: -0.2570383334201326]"
     ]
    },
    {
     "name": "stderr",
     "output_type": "stream",
     "text": [
      "/home/ynesterov/miniconda3/lib/python3.9/site-packages/xgboost/sklearn.py:885: UserWarning: `early_stopping_rounds` in `fit` method is deprecated for better compatibility with scikit-learn, use `early_stopping_rounds` in constructor or`set_params` instead.\n",
      "  warnings.warn(\n",
      "\n"
     ]
    },
    {
     "name": "stdout",
     "output_type": "stream",
     "text": [
      "Best Threshold=0.763864278793335, F-Score=0.24023261002364008, recall=0.34573991031390133, precision=0.142434878995012  \n",
      "  9%|███▉                                         | 13/150 [12:10<2:08:45, 56.39s/trial, best loss: -0.2570383334201326]"
     ]
    },
    {
     "name": "stderr",
     "output_type": "stream",
     "text": [
      "/home/ynesterov/miniconda3/lib/python3.9/site-packages/xgboost/sklearn.py:885: UserWarning: `early_stopping_rounds` in `fit` method is deprecated for better compatibility with scikit-learn, use `early_stopping_rounds` in constructor or`set_params` instead.\n",
      "  warnings.warn(\n",
      "\n"
     ]
    },
    {
     "name": "stdout",
     "output_type": "stream",
     "text": [
      "Best Threshold=0.626416802406311, F-Score=0.2525858921058467, recall=0.33183856502242154, precision=0.16429840142095914 \n",
      "  9%|████▏                                        | 14/150 [13:18<2:16:03, 60.03s/trial, best loss: -0.2570383334201326]"
     ]
    },
    {
     "name": "stderr",
     "output_type": "stream",
     "text": [
      "/home/ynesterov/miniconda3/lib/python3.9/site-packages/xgboost/sklearn.py:885: UserWarning: `early_stopping_rounds` in `fit` method is deprecated for better compatibility with scikit-learn, use `early_stopping_rounds` in constructor or`set_params` instead.\n",
      "  warnings.warn(\n",
      "\n"
     ]
    },
    {
     "name": "stdout",
     "output_type": "stream",
     "text": [
      "Best Threshold=0.6656721830368042, F-Score=0.25270713003177286, recall=0.3493273542600897, precision=0.15576884623075385\n",
      " 10%|████▌                                        | 15/150 [14:12<2:10:31, 58.01s/trial, best loss: -0.2570383334201326]"
     ]
    },
    {
     "name": "stderr",
     "output_type": "stream",
     "text": [
      "/home/ynesterov/miniconda3/lib/python3.9/site-packages/xgboost/sklearn.py:885: UserWarning: `early_stopping_rounds` in `fit` method is deprecated for better compatibility with scikit-learn, use `early_stopping_rounds` in constructor or`set_params` instead.\n",
      "  warnings.warn(\n",
      "\n"
     ]
    },
    {
     "name": "stdout",
     "output_type": "stream",
     "text": [
      "Best Threshold=0.6961600184440613, F-Score=0.25131957027998025, recall=0.3251121076233184, precision=0.1663607159247361 \n",
      " 11%|████▊                                        | 16/150 [15:07<2:07:55, 57.28s/trial, best loss: -0.2570383334201326]"
     ]
    },
    {
     "name": "stderr",
     "output_type": "stream",
     "text": [
      "/home/ynesterov/miniconda3/lib/python3.9/site-packages/xgboost/sklearn.py:885: UserWarning: `early_stopping_rounds` in `fit` method is deprecated for better compatibility with scikit-learn, use `early_stopping_rounds` in constructor or`set_params` instead.\n",
      "  warnings.warn(\n",
      "\n"
     ]
    },
    {
     "name": "stdout",
     "output_type": "stream",
     "text": [
      "Best Threshold=0.747904360294342, F-Score=0.24587453190020844, recall=0.36905829596412554, precision=0.14041972359665586\n",
      " 11%|█████                                        | 17/150 [16:03<2:05:43, 56.72s/trial, best loss: -0.2570383334201326]"
     ]
    },
    {
     "name": "stderr",
     "output_type": "stream",
     "text": [
      "/home/ynesterov/miniconda3/lib/python3.9/site-packages/xgboost/sklearn.py:885: UserWarning: `early_stopping_rounds` in `fit` method is deprecated for better compatibility with scikit-learn, use `early_stopping_rounds` in constructor or`set_params` instead.\n",
      "  warnings.warn(\n",
      "\n"
     ]
    },
    {
     "name": "stdout",
     "output_type": "stream",
     "text": [
      "Best Threshold=0.6106970310211182, F-Score=0.2530418000244929, recall=0.34573991031390133, precision=0.1578300921187308 \n",
      " 12%|█████▍                                       | 18/150 [16:56<2:02:51, 55.85s/trial, best loss: -0.2570383334201326]"
     ]
    },
    {
     "name": "stderr",
     "output_type": "stream",
     "text": [
      "/home/ynesterov/miniconda3/lib/python3.9/site-packages/xgboost/sklearn.py:885: UserWarning: `early_stopping_rounds` in `fit` method is deprecated for better compatibility with scikit-learn, use `early_stopping_rounds` in constructor or`set_params` instead.\n",
      "  warnings.warn(\n",
      "\n"
     ]
    },
    {
     "name": "stdout",
     "output_type": "stream",
     "text": [
      "Best Threshold=0.5312294960021973, F-Score=0.2534797132916668, recall=0.34798206278026905, precision=0.1573398215733982 \n",
      " 13%|█████▋                                       | 19/150 [17:50<2:00:19, 55.11s/trial, best loss: -0.2570383334201326]"
     ]
    },
    {
     "name": "stderr",
     "output_type": "stream",
     "text": [
      "/home/ynesterov/miniconda3/lib/python3.9/site-packages/xgboost/sklearn.py:885: UserWarning: `early_stopping_rounds` in `fit` method is deprecated for better compatibility with scikit-learn, use `early_stopping_rounds` in constructor or`set_params` instead.\n",
      "  warnings.warn(\n",
      "\n"
     ]
    },
    {
     "name": "stdout",
     "output_type": "stream",
     "text": [
      "Best Threshold=0.5729531645774841, F-Score=0.25292283548965905, recall=0.3596412556053812, precision=0.1516641452344932 \n",
      " 13%|██████                                       | 20/150 [18:43<1:58:22, 54.63s/trial, best loss: -0.2570383334201326]"
     ]
    },
    {
     "name": "stderr",
     "output_type": "stream",
     "text": [
      "/home/ynesterov/miniconda3/lib/python3.9/site-packages/xgboost/sklearn.py:885: UserWarning: `early_stopping_rounds` in `fit` method is deprecated for better compatibility with scikit-learn, use `early_stopping_rounds` in constructor or`set_params` instead.\n",
      "  warnings.warn(\n",
      "\n"
     ]
    },
    {
     "name": "stdout",
     "output_type": "stream",
     "text": [
      "Best Threshold=0.05140218511223793, F-Score=0.12165425487050854, recall=0.2304932735426009, precision=0.058985540509524904\n",
      " 14%|██████▎                                      | 21/150 [19:31<1:52:41, 52.41s/trial, best loss: -0.2570383334201326]"
     ]
    },
    {
     "name": "stderr",
     "output_type": "stream",
     "text": [
      "/home/ynesterov/miniconda3/lib/python3.9/site-packages/xgboost/sklearn.py:885: UserWarning: `early_stopping_rounds` in `fit` method is deprecated for better compatibility with scikit-learn, use `early_stopping_rounds` in constructor or`set_params` instead.\n",
      "  warnings.warn(\n",
      "\n"
     ]
    },
    {
     "name": "stdout",
     "output_type": "stream",
     "text": [
      "Best Threshold=0.38774585723876953, F-Score=0.25732540296924533, recall=0.331390134529148, precision=0.17122335495829472\n",
      " 15%|██████▍                                     | 22/150 [20:26<1:53:32, 53.22s/trial, best loss: -0.25732540296924533]"
     ]
    },
    {
     "name": "stderr",
     "output_type": "stream",
     "text": [
      "/home/ynesterov/miniconda3/lib/python3.9/site-packages/xgboost/sklearn.py:885: UserWarning: `early_stopping_rounds` in `fit` method is deprecated for better compatibility with scikit-learn, use `early_stopping_rounds` in constructor or`set_params` instead.\n",
      "  warnings.warn(\n",
      "\n"
     ]
    },
    {
     "name": "stdout",
     "output_type": "stream",
     "text": [
      "Best Threshold=0.052480991929769516, F-Score=0.1219367817814425, recall=0.22556053811659194, precision=0.05995947073548695\n",
      " 15%|██████▋                                     | 23/150 [21:12<1:48:08, 51.09s/trial, best loss: -0.25732540296924533]"
     ]
    },
    {
     "name": "stderr",
     "output_type": "stream",
     "text": [
      "/home/ynesterov/miniconda3/lib/python3.9/site-packages/xgboost/sklearn.py:885: UserWarning: `early_stopping_rounds` in `fit` method is deprecated for better compatibility with scikit-learn, use `early_stopping_rounds` in constructor or`set_params` instead.\n",
      "  warnings.warn(\n",
      "\n"
     ]
    },
    {
     "name": "stdout",
     "output_type": "stream",
     "text": [
      "Best Threshold=0.4262213110923767, F-Score=0.25722099297460377, recall=0.35201793721973096, precision=0.16017139359314425\n",
      " 16%|███████                                     | 24/150 [22:05<1:48:31, 51.68s/trial, best loss: -0.25732540296924533]"
     ]
    },
    {
     "name": "stderr",
     "output_type": "stream",
     "text": [
      "/home/ynesterov/miniconda3/lib/python3.9/site-packages/xgboost/sklearn.py:885: UserWarning: `early_stopping_rounds` in `fit` method is deprecated for better compatibility with scikit-learn, use `early_stopping_rounds` in constructor or`set_params` instead.\n",
      "  warnings.warn(\n",
      "\n"
     ]
    },
    {
     "name": "stdout",
     "output_type": "stream",
     "text": [
      "Best Threshold=0.37612226605415344, F-Score=0.25931616939454283, recall=0.347085201793722, precision=0.16527866752082   \n",
      " 17%|███████▎                                    | 25/150 [22:58<1:48:17, 51.98s/trial, best loss: -0.25931616939454283]"
     ]
    },
    {
     "name": "stderr",
     "output_type": "stream",
     "text": [
      "/home/ynesterov/miniconda3/lib/python3.9/site-packages/xgboost/sklearn.py:885: UserWarning: `early_stopping_rounds` in `fit` method is deprecated for better compatibility with scikit-learn, use `early_stopping_rounds` in constructor or`set_params` instead.\n",
      "  warnings.warn(\n",
      "\n"
     ]
    },
    {
     "name": "stdout",
     "output_type": "stream",
     "text": [
      "Best Threshold=0.37424713373184204, F-Score=0.25889484215213404, recall=0.3488789237668161, precision=0.16382396293956622\n",
      " 17%|███████▋                                    | 26/150 [23:50<1:47:54, 52.21s/trial, best loss: -0.25931616939454283]"
     ]
    },
    {
     "name": "stderr",
     "output_type": "stream",
     "text": [
      "/home/ynesterov/miniconda3/lib/python3.9/site-packages/xgboost/sklearn.py:885: UserWarning: `early_stopping_rounds` in `fit` method is deprecated for better compatibility with scikit-learn, use `early_stopping_rounds` in constructor or`set_params` instead.\n",
      "  warnings.warn(\n",
      "\n"
     ]
    },
    {
     "name": "stdout",
     "output_type": "stream",
     "text": [
      "Best Threshold=0.321025013923645, F-Score=0.25861482036769734, recall=0.3349775784753363, precision=0.17093821510297483 \n",
      " 18%|███████▉                                    | 27/150 [24:44<1:48:04, 52.72s/trial, best loss: -0.25931616939454283]"
     ]
    },
    {
     "name": "stderr",
     "output_type": "stream",
     "text": [
      "/home/ynesterov/miniconda3/lib/python3.9/site-packages/xgboost/sklearn.py:885: UserWarning: `early_stopping_rounds` in `fit` method is deprecated for better compatibility with scikit-learn, use `early_stopping_rounds` in constructor or`set_params` instead.\n",
      "  warnings.warn(\n",
      "\n"
     ]
    },
    {
     "name": "stdout",
     "output_type": "stream",
     "text": [
      "Best Threshold=0.41951194405555725, F-Score=0.2558263048959785, recall=0.35515695067264574, precision=0.1570182394924663\n",
      " 19%|████████▏                                   | 28/150 [25:38<1:47:50, 53.04s/trial, best loss: -0.25931616939454283]"
     ]
    },
    {
     "name": "stderr",
     "output_type": "stream",
     "text": [
      "/home/ynesterov/miniconda3/lib/python3.9/site-packages/xgboost/sklearn.py:885: UserWarning: `early_stopping_rounds` in `fit` method is deprecated for better compatibility with scikit-learn, use `early_stopping_rounds` in constructor or`set_params` instead.\n",
      "  warnings.warn(\n",
      "\n"
     ]
    },
    {
     "name": "stdout",
     "output_type": "stream",
     "text": [
      "Best Threshold=0.023613274097442627, F-Score=0.11829888478611514, recall=0.23004484304932735, precision=0.05652269722344645\n",
      " 19%|████████▌                                   | 29/150 [26:24<1:42:38, 50.89s/trial, best loss: -0.25931616939454283]"
     ]
    },
    {
     "name": "stderr",
     "output_type": "stream",
     "text": [
      "/home/ynesterov/miniconda3/lib/python3.9/site-packages/xgboost/sklearn.py:885: UserWarning: `early_stopping_rounds` in `fit` method is deprecated for better compatibility with scikit-learn, use `early_stopping_rounds` in constructor or`set_params` instead.\n",
      "  warnings.warn(\n",
      "\n"
     ]
    },
    {
     "name": "stdout",
     "output_type": "stream",
     "text": [
      "Best Threshold=0.639030396938324, F-Score=0.25219950548437975, recall=0.3381165919282511, precision=0.16045967227069588 \n",
      " 20%|████████▊                                   | 30/150 [27:17<1:43:11, 51.60s/trial, best loss: -0.25931616939454283]"
     ]
    },
    {
     "name": "stderr",
     "output_type": "stream",
     "text": [
      "/home/ynesterov/miniconda3/lib/python3.9/site-packages/xgboost/sklearn.py:885: UserWarning: `early_stopping_rounds` in `fit` method is deprecated for better compatibility with scikit-learn, use `early_stopping_rounds` in constructor or`set_params` instead.\n",
      "  warnings.warn(\n",
      "\n"
     ]
    },
    {
     "name": "stdout",
     "output_type": "stream",
     "text": [
      "Best Threshold=0.02324329875409603, F-Score=0.11770266599736871, recall=0.26053811659192827, precision=0.052698412698412696\n",
      " 21%|█████████                                   | 31/150 [28:05<1:39:53, 50.36s/trial, best loss: -0.25931616939454283]"
     ]
    },
    {
     "name": "stderr",
     "output_type": "stream",
     "text": [
      "/home/ynesterov/miniconda3/lib/python3.9/site-packages/xgboost/sklearn.py:885: UserWarning: `early_stopping_rounds` in `fit` method is deprecated for better compatibility with scikit-learn, use `early_stopping_rounds` in constructor or`set_params` instead.\n",
      "  warnings.warn(\n",
      "\n"
     ]
    },
    {
     "name": "stdout",
     "output_type": "stream",
     "text": [
      "Best Threshold=0.5723881125450134, F-Score=0.25434309449759296, recall=0.34035874439461883, precision=0.16214484084597308\n",
      " 21%|█████████▍                                  | 32/150 [28:58<1:40:59, 51.35s/trial, best loss: -0.25931616939454283]"
     ]
    },
    {
     "name": "stderr",
     "output_type": "stream",
     "text": [
      "/home/ynesterov/miniconda3/lib/python3.9/site-packages/xgboost/sklearn.py:885: UserWarning: `early_stopping_rounds` in `fit` method is deprecated for better compatibility with scikit-learn, use `early_stopping_rounds` in constructor or`set_params` instead.\n",
      "  warnings.warn(\n",
      "\n"
     ]
    },
    {
     "name": "stdout",
     "output_type": "stream",
     "text": [
      "Best Threshold=0.4515577256679535, F-Score=0.2554430805544437, recall=0.3650224215246637, precision=0.1524630080539427  \n",
      " 22%|█████████▋                                  | 33/150 [29:51<1:41:08, 51.86s/trial, best loss: -0.25931616939454283]"
     ]
    },
    {
     "name": "stderr",
     "output_type": "stream",
     "text": [
      "/home/ynesterov/miniconda3/lib/python3.9/site-packages/xgboost/sklearn.py:885: UserWarning: `early_stopping_rounds` in `fit` method is deprecated for better compatibility with scikit-learn, use `early_stopping_rounds` in constructor or`set_params` instead.\n",
      "  warnings.warn(\n",
      "\n"
     ]
    },
    {
     "name": "stdout",
     "output_type": "stream",
     "text": [
      "Best Threshold=0.7177074551582336, F-Score=0.25088479323066454, recall=0.347085201793722, precision=0.1545218606508285  \n",
      " 23%|█████████▉                                  | 34/150 [30:45<1:41:20, 52.42s/trial, best loss: -0.25931616939454283]"
     ]
    },
    {
     "name": "stderr",
     "output_type": "stream",
     "text": [
      "/home/ynesterov/miniconda3/lib/python3.9/site-packages/xgboost/sklearn.py:885: UserWarning: `early_stopping_rounds` in `fit` method is deprecated for better compatibility with scikit-learn, use `early_stopping_rounds` in constructor or`set_params` instead.\n",
      "  warnings.warn(\n",
      "\n"
     ]
    },
    {
     "name": "stdout",
     "output_type": "stream",
     "text": [
      "Best Threshold=0.31395643949508667, F-Score=0.25695822764056103, recall=0.33946188340807176, precision=0.16611806012727673\n",
      " 23%|██████████▎                                 | 35/150 [31:39<1:41:11, 52.80s/trial, best loss: -0.25931616939454283]"
     ]
    },
    {
     "name": "stderr",
     "output_type": "stream",
     "text": [
      "/home/ynesterov/miniconda3/lib/python3.9/site-packages/xgboost/sklearn.py:885: UserWarning: `early_stopping_rounds` in `fit` method is deprecated for better compatibility with scikit-learn, use `early_stopping_rounds` in constructor or`set_params` instead.\n",
      "  warnings.warn(\n",
      "\n"
     ]
    },
    {
     "name": "stdout",
     "output_type": "stream",
     "text": [
      "Best Threshold=0.4574468433856964, F-Score=0.25506087358453966, recall=0.35201793721973096, precision=0.15747241725175526\n",
      " 24%|██████████▌                                 | 36/150 [32:31<1:40:07, 52.70s/trial, best loss: -0.25931616939454283]"
     ]
    },
    {
     "name": "stderr",
     "output_type": "stream",
     "text": [
      "/home/ynesterov/miniconda3/lib/python3.9/site-packages/xgboost/sklearn.py:885: UserWarning: `early_stopping_rounds` in `fit` method is deprecated for better compatibility with scikit-learn, use `early_stopping_rounds` in constructor or`set_params` instead.\n",
      "  warnings.warn(\n",
      "\n"
     ]
    },
    {
     "name": "stdout",
     "output_type": "stream",
     "text": [
      "Best Threshold=0.7226536870002747, F-Score=0.2476569673201921, recall=0.35919282511210765, precision=0.14579541317801237\n",
      " 25%|██████████▊                                 | 37/150 [33:24<1:39:19, 52.74s/trial, best loss: -0.25931616939454283]"
     ]
    },
    {
     "name": "stderr",
     "output_type": "stream",
     "text": [
      "/home/ynesterov/miniconda3/lib/python3.9/site-packages/xgboost/sklearn.py:885: UserWarning: `early_stopping_rounds` in `fit` method is deprecated for better compatibility with scikit-learn, use `early_stopping_rounds` in constructor or`set_params` instead.\n",
      "  warnings.warn(\n",
      "\n"
     ]
    },
    {
     "name": "stdout",
     "output_type": "stream",
     "text": [
      "Best Threshold=0.5249005556106567, F-Score=0.2559599945385431, recall=0.3295964125560538, precision=0.17033603707995365 \n",
      " 25%|███████████▏                                | 38/150 [34:15<1:37:35, 52.28s/trial, best loss: -0.25931616939454283]"
     ]
    },
    {
     "name": "stderr",
     "output_type": "stream",
     "text": [
      "/home/ynesterov/miniconda3/lib/python3.9/site-packages/xgboost/sklearn.py:885: UserWarning: `early_stopping_rounds` in `fit` method is deprecated for better compatibility with scikit-learn, use `early_stopping_rounds` in constructor or`set_params` instead.\n",
      "  warnings.warn(\n",
      "\n"
     ]
    },
    {
     "name": "stdout",
     "output_type": "stream",
     "text": [
      "Best Threshold=0.3462471663951874, F-Score=0.25695602090315894, recall=0.38161434977578473, precision=0.14810302819352594\n",
      " 26%|███████████▍                                | 39/150 [35:07<1:36:15, 52.03s/trial, best loss: -0.25931616939454283]"
     ]
    },
    {
     "name": "stderr",
     "output_type": "stream",
     "text": [
      "/home/ynesterov/miniconda3/lib/python3.9/site-packages/xgboost/sklearn.py:885: UserWarning: `early_stopping_rounds` in `fit` method is deprecated for better compatibility with scikit-learn, use `early_stopping_rounds` in constructor or`set_params` instead.\n",
      "  warnings.warn(\n",
      "\n"
     ]
    },
    {
     "name": "stdout",
     "output_type": "stream",
     "text": [
      "Best Threshold=0.5657933950424194, F-Score=0.25419517424184535, recall=0.3417040358744395, precision=0.16126984126984126\n",
      " 27%|███████████▋                                | 40/150 [35:59<1:35:33, 52.12s/trial, best loss: -0.25931616939454283]"
     ]
    },
    {
     "name": "stderr",
     "output_type": "stream",
     "text": [
      "/home/ynesterov/miniconda3/lib/python3.9/site-packages/xgboost/sklearn.py:885: UserWarning: `early_stopping_rounds` in `fit` method is deprecated for better compatibility with scikit-learn, use `early_stopping_rounds` in constructor or`set_params` instead.\n",
      "  warnings.warn(\n",
      "\n"
     ]
    },
    {
     "name": "stdout",
     "output_type": "stream",
     "text": [
      "Best Threshold=0.7008377909660339, F-Score=0.25028422192953476, recall=0.3488789237668161, precision=0.15299901671583088\n",
      " 27%|████████████                                | 41/150 [36:52<1:34:57, 52.28s/trial, best loss: -0.25931616939454283]"
     ]
    },
    {
     "name": "stderr",
     "output_type": "stream",
     "text": [
      "/home/ynesterov/miniconda3/lib/python3.9/site-packages/xgboost/sklearn.py:885: UserWarning: `early_stopping_rounds` in `fit` method is deprecated for better compatibility with scikit-learn, use `early_stopping_rounds` in constructor or`set_params` instead.\n",
      "  warnings.warn(\n",
      "\n"
     ]
    },
    {
     "name": "stdout",
     "output_type": "stream",
     "text": [
      "Best Threshold=0.6317393779754639, F-Score=0.2523615671923842, recall=0.3704035874439462, precision=0.14697508896797154 \n",
      " 28%|████████████▎                               | 42/150 [37:44<1:33:52, 52.15s/trial, best loss: -0.25931616939454283]"
     ]
    },
    {
     "name": "stderr",
     "output_type": "stream",
     "text": [
      "/home/ynesterov/miniconda3/lib/python3.9/site-packages/xgboost/sklearn.py:885: UserWarning: `early_stopping_rounds` in `fit` method is deprecated for better compatibility with scikit-learn, use `early_stopping_rounds` in constructor or`set_params` instead.\n",
      "  warnings.warn(\n",
      "\n"
     ]
    },
    {
     "name": "stdout",
     "output_type": "stream",
     "text": [
      "Best Threshold=0.7325765490531921, F-Score=0.24780384612034637, recall=0.3600896860986547, precision=0.14562930721799056\n",
      " 29%|████████████▌                               | 43/150 [38:37<1:33:42, 52.54s/trial, best loss: -0.25931616939454283]"
     ]
    },
    {
     "name": "stderr",
     "output_type": "stream",
     "text": [
      "/home/ynesterov/miniconda3/lib/python3.9/site-packages/xgboost/sklearn.py:885: UserWarning: `early_stopping_rounds` in `fit` method is deprecated for better compatibility with scikit-learn, use `early_stopping_rounds` in constructor or`set_params` instead.\n",
      "  warnings.warn(\n",
      "\n"
     ]
    },
    {
     "name": "stdout",
     "output_type": "stream",
     "text": [
      "Best Threshold=0.4971657395362854, F-Score=0.25784548375184174, recall=0.3542600896860987, precision=0.15991902834008098\n",
      " 29%|████████████▉                               | 44/150 [39:30<1:33:11, 52.75s/trial, best loss: -0.25931616939454283]"
     ]
    },
    {
     "name": "stderr",
     "output_type": "stream",
     "text": [
      "/home/ynesterov/miniconda3/lib/python3.9/site-packages/xgboost/sklearn.py:885: UserWarning: `early_stopping_rounds` in `fit` method is deprecated for better compatibility with scikit-learn, use `early_stopping_rounds` in constructor or`set_params` instead.\n",
      "  warnings.warn(\n",
      "\n"
     ]
    },
    {
     "name": "stdout",
     "output_type": "stream",
     "text": [
      "Best Threshold=0.04899817705154419, F-Score=0.12912298906475167, recall=0.31569506726457397, precision=0.055424342623208944\n",
      " 30%|█████████████▏                              | 45/150 [40:16<1:28:49, 50.76s/trial, best loss: -0.25931616939454283]"
     ]
    },
    {
     "name": "stderr",
     "output_type": "stream",
     "text": [
      "/home/ynesterov/miniconda3/lib/python3.9/site-packages/xgboost/sklearn.py:885: UserWarning: `early_stopping_rounds` in `fit` method is deprecated for better compatibility with scikit-learn, use `early_stopping_rounds` in constructor or`set_params` instead.\n",
      "  warnings.warn(\n",
      "\n"
     ]
    },
    {
     "name": "stdout",
     "output_type": "stream",
     "text": [
      "Best Threshold=0.37711554765701294, F-Score=0.2583531377197869, recall=0.34618834080717487, precision=0.16446527481891776\n",
      " 31%|█████████████▍                              | 46/150 [41:09<1:28:57, 51.32s/trial, best loss: -0.25931616939454283]"
     ]
    },
    {
     "name": "stderr",
     "output_type": "stream",
     "text": [
      "/home/ynesterov/miniconda3/lib/python3.9/site-packages/xgboost/sklearn.py:885: UserWarning: `early_stopping_rounds` in `fit` method is deprecated for better compatibility with scikit-learn, use `early_stopping_rounds` in constructor or`set_params` instead.\n",
      "  warnings.warn(\n",
      "\n"
     ]
    },
    {
     "name": "stdout",
     "output_type": "stream",
     "text": [
      "Best Threshold=0.5346730947494507, F-Score=0.2533754352534169, recall=0.3430493273542601, precision=0.15954118873826903 \n",
      " 31%|█████████████▊                              | 47/150 [42:02<1:28:54, 51.79s/trial, best loss: -0.25931616939454283]"
     ]
    },
    {
     "name": "stderr",
     "output_type": "stream",
     "text": [
      "/home/ynesterov/miniconda3/lib/python3.9/site-packages/xgboost/sklearn.py:885: UserWarning: `early_stopping_rounds` in `fit` method is deprecated for better compatibility with scikit-learn, use `early_stopping_rounds` in constructor or`set_params` instead.\n",
      "  warnings.warn(\n",
      "\n"
     ]
    },
    {
     "name": "stdout",
     "output_type": "stream",
     "text": [
      "Best Threshold=0.5865020155906677, F-Score=0.2544632472872, recall=0.347085201793722, precision=0.1589975349219392      \n",
      " 32%|██████████████                              | 48/150 [42:55<1:28:40, 52.16s/trial, best loss: -0.25931616939454283]"
     ]
    },
    {
     "name": "stderr",
     "output_type": "stream",
     "text": [
      "/home/ynesterov/miniconda3/lib/python3.9/site-packages/xgboost/sklearn.py:885: UserWarning: `early_stopping_rounds` in `fit` method is deprecated for better compatibility with scikit-learn, use `early_stopping_rounds` in constructor or`set_params` instead.\n",
      "  warnings.warn(\n",
      "\n"
     ]
    },
    {
     "name": "stdout",
     "output_type": "stream",
     "text": [
      "Best Threshold=0.6266340017318726, F-Score=0.25248676582441704, recall=0.3484304932735426, precision=0.15589887640449437\n",
      " 33%|██████████████▎                             | 49/150 [43:48<1:28:21, 52.49s/trial, best loss: -0.25931616939454283]"
     ]
    },
    {
     "name": "stderr",
     "output_type": "stream",
     "text": [
      "/home/ynesterov/miniconda3/lib/python3.9/site-packages/xgboost/sklearn.py:885: UserWarning: `early_stopping_rounds` in `fit` method is deprecated for better compatibility with scikit-learn, use `early_stopping_rounds` in constructor or`set_params` instead.\n",
      "  warnings.warn(\n",
      "\n"
     ]
    },
    {
     "name": "stdout",
     "output_type": "stream",
     "text": [
      "Best Threshold=0.6980665326118469, F-Score=0.24918260365467826, recall=0.331390134529148, precision=0.15992209478467864 \n",
      " 33%|██████████████▋                             | 50/150 [44:42<1:28:13, 52.93s/trial, best loss: -0.25931616939454283]"
     ]
    },
    {
     "name": "stderr",
     "output_type": "stream",
     "text": [
      "/home/ynesterov/miniconda3/lib/python3.9/site-packages/xgboost/sklearn.py:885: UserWarning: `early_stopping_rounds` in `fit` method is deprecated for better compatibility with scikit-learn, use `early_stopping_rounds` in constructor or`set_params` instead.\n",
      "  warnings.warn(\n",
      "\n"
     ]
    },
    {
     "name": "stdout",
     "output_type": "stream",
     "text": [
      "Best Threshold=0.4245268404483795, F-Score=0.2544243044702535, recall=0.342152466367713, precision=0.16134489321209558  \n",
      " 34%|██████████████▉                             | 51/150 [45:34<1:27:03, 52.76s/trial, best loss: -0.25931616939454283]"
     ]
    },
    {
     "name": "stderr",
     "output_type": "stream",
     "text": [
      "/home/ynesterov/miniconda3/lib/python3.9/site-packages/xgboost/sklearn.py:885: UserWarning: `early_stopping_rounds` in `fit` method is deprecated for better compatibility with scikit-learn, use `early_stopping_rounds` in constructor or`set_params` instead.\n",
      "  warnings.warn(\n",
      "\n"
     ]
    },
    {
     "name": "stdout",
     "output_type": "stream",
     "text": [
      "Best Threshold=0.5837221741676331, F-Score=0.25412086006582796, recall=0.35201793721973096, precision=0.1563122262046993\n",
      " 35%|███████████████▎                            | 52/150 [46:28<1:26:34, 53.01s/trial, best loss: -0.25931616939454283]"
     ]
    },
    {
     "name": "stderr",
     "output_type": "stream",
     "text": [
      "/home/ynesterov/miniconda3/lib/python3.9/site-packages/xgboost/sklearn.py:885: UserWarning: `early_stopping_rounds` in `fit` method is deprecated for better compatibility with scikit-learn, use `early_stopping_rounds` in constructor or`set_params` instead.\n",
      "  warnings.warn(\n",
      "\n"
     ]
    },
    {
     "name": "stdout",
     "output_type": "stream",
     "text": [
      "Best Threshold=0.30355364084243774, F-Score=0.25776438569903587, recall=0.357847533632287, precision=0.15820777160983346\n",
      " 35%|███████████████▌                            | 53/150 [47:21<1:25:31, 52.90s/trial, best loss: -0.25931616939454283]"
     ]
    },
    {
     "name": "stderr",
     "output_type": "stream",
     "text": [
      "/home/ynesterov/miniconda3/lib/python3.9/site-packages/xgboost/sklearn.py:885: UserWarning: `early_stopping_rounds` in `fit` method is deprecated for better compatibility with scikit-learn, use `early_stopping_rounds` in constructor or`set_params` instead.\n",
      "  warnings.warn(\n",
      "\n"
     ]
    },
    {
     "name": "stdout",
     "output_type": "stream",
     "text": [
      "Best Threshold=0.505662739276886, F-Score=0.2561588942987771, recall=0.3493273542600897, precision=0.16009042334566378  \n",
      " 36%|███████████████▊                            | 54/150 [48:14<1:24:38, 52.90s/trial, best loss: -0.25931616939454283]"
     ]
    },
    {
     "name": "stderr",
     "output_type": "stream",
     "text": [
      "/home/ynesterov/miniconda3/lib/python3.9/site-packages/xgboost/sklearn.py:885: UserWarning: `early_stopping_rounds` in `fit` method is deprecated for better compatibility with scikit-learn, use `early_stopping_rounds` in constructor or`set_params` instead.\n",
      "  warnings.warn(\n",
      "\n"
     ]
    },
    {
     "name": "stdout",
     "output_type": "stream",
     "text": [
      "Best Threshold=0.6513817310333252, F-Score=0.25149664514413195, recall=0.33901345291479823, precision=0.1590909090909091\n",
      " 37%|████████████████▏                           | 55/150 [49:06<1:23:32, 52.76s/trial, best loss: -0.25931616939454283]"
     ]
    },
    {
     "name": "stderr",
     "output_type": "stream",
     "text": [
      "/home/ynesterov/miniconda3/lib/python3.9/site-packages/xgboost/sklearn.py:885: UserWarning: `early_stopping_rounds` in `fit` method is deprecated for better compatibility with scikit-learn, use `early_stopping_rounds` in constructor or`set_params` instead.\n",
      "  warnings.warn(\n",
      "\n"
     ]
    },
    {
     "name": "stdout",
     "output_type": "stream",
     "text": [
      "Best Threshold=0.02474498562514782, F-Score=0.11507105816169498, recall=0.20179372197309417, precision=0.05850234009360374\n",
      " 37%|████████████████▍                           | 56/150 [49:53<1:20:01, 51.08s/trial, best loss: -0.25931616939454283]"
     ]
    },
    {
     "name": "stderr",
     "output_type": "stream",
     "text": [
      "/home/ynesterov/miniconda3/lib/python3.9/site-packages/xgboost/sklearn.py:885: UserWarning: `early_stopping_rounds` in `fit` method is deprecated for better compatibility with scikit-learn, use `early_stopping_rounds` in constructor or`set_params` instead.\n",
      "  warnings.warn(\n",
      "\n"
     ]
    },
    {
     "name": "stdout",
     "output_type": "stream",
     "text": [
      "Best Threshold=0.706526517868042, F-Score=0.25129837912984604, recall=0.3170403587443946, precision=0.17135239941832284 \n",
      " 38%|████████████████▋                           | 57/150 [50:48<1:20:50, 52.16s/trial, best loss: -0.25931616939454283]"
     ]
    },
    {
     "name": "stderr",
     "output_type": "stream",
     "text": [
      "/home/ynesterov/miniconda3/lib/python3.9/site-packages/xgboost/sklearn.py:885: UserWarning: `early_stopping_rounds` in `fit` method is deprecated for better compatibility with scikit-learn, use `early_stopping_rounds` in constructor or`set_params` instead.\n",
      "  warnings.warn(\n",
      "\n"
     ]
    },
    {
     "name": "stdout",
     "output_type": "stream",
     "text": [
      "Best Threshold=0.586361289024353, F-Score=0.25201108912472503, recall=0.3219730941704036, precision=0.16925978312116927 \n",
      " 39%|█████████████████                           | 58/150 [51:42<1:21:02, 52.85s/trial, best loss: -0.25931616939454283]"
     ]
    },
    {
     "name": "stderr",
     "output_type": "stream",
     "text": [
      "/home/ynesterov/miniconda3/lib/python3.9/site-packages/xgboost/sklearn.py:885: UserWarning: `early_stopping_rounds` in `fit` method is deprecated for better compatibility with scikit-learn, use `early_stopping_rounds` in constructor or`set_params` instead.\n",
      "  warnings.warn(\n",
      "\n"
     ]
    },
    {
     "name": "stdout",
     "output_type": "stream",
     "text": [
      "Best Threshold=0.5329360961914062, F-Score=0.25161254212029427, recall=0.347085201793722, precision=0.15542168674698795 \n",
      " 39%|█████████████████▎                          | 59/150 [52:36<1:20:43, 53.23s/trial, best loss: -0.25931616939454283]"
     ]
    },
    {
     "name": "stderr",
     "output_type": "stream",
     "text": [
      "/home/ynesterov/miniconda3/lib/python3.9/site-packages/xgboost/sklearn.py:885: UserWarning: `early_stopping_rounds` in `fit` method is deprecated for better compatibility with scikit-learn, use `early_stopping_rounds` in constructor or`set_params` instead.\n",
      "  warnings.warn(\n",
      "\n"
     ]
    },
    {
     "name": "stdout",
     "output_type": "stream",
     "text": [
      "Best Threshold=0.613135576248169, F-Score=0.25182931314146995, recall=0.33946188340807176, precision=0.1593013468013468 \n",
      " 40%|█████████████████▌                          | 60/150 [53:28<1:19:05, 52.73s/trial, best loss: -0.25931616939454283]"
     ]
    },
    {
     "name": "stderr",
     "output_type": "stream",
     "text": [
      "/home/ynesterov/miniconda3/lib/python3.9/site-packages/xgboost/sklearn.py:885: UserWarning: `early_stopping_rounds` in `fit` method is deprecated for better compatibility with scikit-learn, use `early_stopping_rounds` in constructor or`set_params` instead.\n",
      "  warnings.warn(\n",
      "\n"
     ]
    },
    {
     "name": "stdout",
     "output_type": "stream",
     "text": [
      "Best Threshold=0.42697209119796753, F-Score=0.2591237266965056, recall=0.35022421524663677, precision=0.16345751360401842\n",
      " 41%|█████████████████▉                          | 61/150 [54:22<1:18:35, 52.98s/trial, best loss: -0.25931616939454283]"
     ]
    },
    {
     "name": "stderr",
     "output_type": "stream",
     "text": [
      "/home/ynesterov/miniconda3/lib/python3.9/site-packages/xgboost/sklearn.py:885: UserWarning: `early_stopping_rounds` in `fit` method is deprecated for better compatibility with scikit-learn, use `early_stopping_rounds` in constructor or`set_params` instead.\n",
      "  warnings.warn(\n",
      "\n"
     ]
    },
    {
     "name": "stdout",
     "output_type": "stream",
     "text": [
      "Best Threshold=0.4651699960231781, F-Score=0.2545266488974326, recall=0.34618834080717487, precision=0.15950413223140497\n",
      " 41%|██████████████████▏                         | 62/150 [55:15<1:17:51, 53.08s/trial, best loss: -0.25931616939454283]"
     ]
    },
    {
     "name": "stderr",
     "output_type": "stream",
     "text": [
      "/home/ynesterov/miniconda3/lib/python3.9/site-packages/xgboost/sklearn.py:885: UserWarning: `early_stopping_rounds` in `fit` method is deprecated for better compatibility with scikit-learn, use `early_stopping_rounds` in constructor or`set_params` instead.\n",
      "  warnings.warn(\n",
      "\n"
     ]
    },
    {
     "name": "stdout",
     "output_type": "stream",
     "text": [
      "Best Threshold=0.21903234720230103, F-Score=0.2580576869251367, recall=0.35515695067264574, precision=0.15977405688924753\n",
      " 42%|██████████████████▍                         | 63/150 [56:09<1:17:33, 53.49s/trial, best loss: -0.25931616939454283]"
     ]
    },
    {
     "name": "stderr",
     "output_type": "stream",
     "text": [
      "/home/ynesterov/miniconda3/lib/python3.9/site-packages/xgboost/sklearn.py:885: UserWarning: `early_stopping_rounds` in `fit` method is deprecated for better compatibility with scikit-learn, use `early_stopping_rounds` in constructor or`set_params` instead.\n",
      "  warnings.warn(\n",
      "\n"
     ]
    },
    {
     "name": "stdout",
     "output_type": "stream",
     "text": [
      "Best Threshold=0.4337516725063324, F-Score=0.2548613001710051, recall=0.33363228699551567, precision=0.16644295302013423\n",
      " 43%|██████████████████▊                         | 64/150 [57:03<1:16:55, 53.67s/trial, best loss: -0.25931616939454283]"
     ]
    },
    {
     "name": "stderr",
     "output_type": "stream",
     "text": [
      "/home/ynesterov/miniconda3/lib/python3.9/site-packages/xgboost/sklearn.py:885: UserWarning: `early_stopping_rounds` in `fit` method is deprecated for better compatibility with scikit-learn, use `early_stopping_rounds` in constructor or`set_params` instead.\n",
      "  warnings.warn(\n",
      "\n"
     ]
    },
    {
     "name": "stdout",
     "output_type": "stream",
     "text": [
      "Best Threshold=0.634849488735199, F-Score=0.2524900028157377, recall=0.34798206278026905, precision=0.15610541138603903 \n",
      " 43%|███████████████████                         | 65/150 [57:56<1:15:44, 53.47s/trial, best loss: -0.25931616939454283]"
     ]
    },
    {
     "name": "stderr",
     "output_type": "stream",
     "text": [
      "/home/ynesterov/miniconda3/lib/python3.9/site-packages/xgboost/sklearn.py:885: UserWarning: `early_stopping_rounds` in `fit` method is deprecated for better compatibility with scikit-learn, use `early_stopping_rounds` in constructor or`set_params` instead.\n",
      "  warnings.warn(\n",
      "\n"
     ]
    },
    {
     "name": "stdout",
     "output_type": "stream",
     "text": [
      "Best Threshold=0.3220542371273041, F-Score=0.2604871844662064, recall=0.33542600896860986, precision=0.17334878331402087\n",
      " 44%|███████████████████▊                         | 66/150 [58:49<1:14:25, 53.16s/trial, best loss: -0.2604871844662064]"
     ]
    },
    {
     "name": "stderr",
     "output_type": "stream",
     "text": [
      "/home/ynesterov/miniconda3/lib/python3.9/site-packages/xgboost/sklearn.py:885: UserWarning: `early_stopping_rounds` in `fit` method is deprecated for better compatibility with scikit-learn, use `early_stopping_rounds` in constructor or`set_params` instead.\n",
      "  warnings.warn(\n",
      "\n"
     ]
    },
    {
     "name": "stdout",
     "output_type": "stream",
     "text": [
      "Best Threshold=0.3161548972129822, F-Score=0.258928676636278, recall=0.34260089686098655, precision=0.16710411198600175 \n",
      " 45%|████████████████████                         | 67/150 [59:41<1:13:11, 52.92s/trial, best loss: -0.2604871844662064]"
     ]
    },
    {
     "name": "stderr",
     "output_type": "stream",
     "text": [
      "/home/ynesterov/miniconda3/lib/python3.9/site-packages/xgboost/sklearn.py:885: UserWarning: `early_stopping_rounds` in `fit` method is deprecated for better compatibility with scikit-learn, use `early_stopping_rounds` in constructor or`set_params` instead.\n",
      "  warnings.warn(\n",
      "\n"
     ]
    },
    {
     "name": "stdout",
     "output_type": "stream",
     "text": [
      "Best Threshold=0.023251399397850037, F-Score=0.11790525287597102, recall=0.2609865470852018, precision=0.0527891156462585\n",
      " 45%|███████████████████▍                       | 68/150 [1:00:27<1:09:21, 50.75s/trial, best loss: -0.2604871844662064]"
     ]
    },
    {
     "name": "stderr",
     "output_type": "stream",
     "text": [
      "/home/ynesterov/miniconda3/lib/python3.9/site-packages/xgboost/sklearn.py:885: UserWarning: `early_stopping_rounds` in `fit` method is deprecated for better compatibility with scikit-learn, use `early_stopping_rounds` in constructor or`set_params` instead.\n",
      "  warnings.warn(\n",
      "\n"
     ]
    },
    {
     "name": "stdout",
     "output_type": "stream",
     "text": [
      "Best Threshold=0.4806590676307678, F-Score=0.25700240427583887, recall=0.3399103139013453, precision=0.1659369527145359 \n",
      " 46%|███████████████████▊                       | 69/150 [1:01:20<1:09:22, 51.39s/trial, best loss: -0.2604871844662064]"
     ]
    },
    {
     "name": "stderr",
     "output_type": "stream",
     "text": [
      "/home/ynesterov/miniconda3/lib/python3.9/site-packages/xgboost/sklearn.py:885: UserWarning: `early_stopping_rounds` in `fit` method is deprecated for better compatibility with scikit-learn, use `early_stopping_rounds` in constructor or`set_params` instead.\n",
      "  warnings.warn(\n",
      "\n"
     ]
    },
    {
     "name": "stdout",
     "output_type": "stream",
     "text": [
      "Best Threshold=0.38187116384506226, F-Score=0.2581272815080919, recall=0.3412556053811659, precision=0.16673970201577565\n",
      " 47%|████████████████████                       | 70/150 [1:02:13<1:09:14, 51.93s/trial, best loss: -0.2604871844662064]"
     ]
    },
    {
     "name": "stderr",
     "output_type": "stream",
     "text": [
      "/home/ynesterov/miniconda3/lib/python3.9/site-packages/xgboost/sklearn.py:885: UserWarning: `early_stopping_rounds` in `fit` method is deprecated for better compatibility with scikit-learn, use `early_stopping_rounds` in constructor or`set_params` instead.\n",
      "  warnings.warn(\n",
      "\n"
     ]
    },
    {
     "name": "stdout",
     "output_type": "stream",
     "text": [
      "Best Threshold=0.31471067667007446, F-Score=0.2574823318189661, recall=0.3412556053811659, precision=0.1658674803836094 \n",
      " 47%|████████████████████▎                      | 71/150 [1:03:06<1:08:42, 52.18s/trial, best loss: -0.2604871844662064]"
     ]
    },
    {
     "name": "stderr",
     "output_type": "stream",
     "text": [
      "/home/ynesterov/miniconda3/lib/python3.9/site-packages/xgboost/sklearn.py:885: UserWarning: `early_stopping_rounds` in `fit` method is deprecated for better compatibility with scikit-learn, use `early_stopping_rounds` in constructor or`set_params` instead.\n",
      "  warnings.warn(\n",
      "\n"
     ]
    },
    {
     "name": "stdout",
     "output_type": "stream",
     "text": [
      "Best Threshold=0.44740229845046997, F-Score=0.2567226276575376, recall=0.32600896860986545, precision=0.1736741519350215\n",
      " 48%|████████████████████▋                      | 72/150 [1:03:59<1:08:12, 52.47s/trial, best loss: -0.2604871844662064]"
     ]
    },
    {
     "name": "stderr",
     "output_type": "stream",
     "text": [
      "/home/ynesterov/miniconda3/lib/python3.9/site-packages/xgboost/sklearn.py:885: UserWarning: `early_stopping_rounds` in `fit` method is deprecated for better compatibility with scikit-learn, use `early_stopping_rounds` in constructor or`set_params` instead.\n",
      "  warnings.warn(\n",
      "\n"
     ]
    },
    {
     "name": "stdout",
     "output_type": "stream",
     "text": [
      "Best Threshold=0.04884829744696617, F-Score=0.13258583469951463, recall=0.29013452914798205, precision=0.05967533665375392\n",
      " 49%|████████████████████▉                      | 73/150 [1:04:46<1:05:08, 50.76s/trial, best loss: -0.2604871844662064]"
     ]
    },
    {
     "name": "stderr",
     "output_type": "stream",
     "text": [
      "/home/ynesterov/miniconda3/lib/python3.9/site-packages/xgboost/sklearn.py:885: UserWarning: `early_stopping_rounds` in `fit` method is deprecated for better compatibility with scikit-learn, use `early_stopping_rounds` in constructor or`set_params` instead.\n",
      "  warnings.warn(\n",
      "\n"
     ]
    },
    {
     "name": "stdout",
     "output_type": "stream",
     "text": [
      "Best Threshold=0.5632480978965759, F-Score=0.25410877769539725, recall=0.34663677130044845, precision=0.1587594988704046\n",
      " 49%|█████████████████████▏                     | 74/150 [1:05:38<1:05:04, 51.37s/trial, best loss: -0.2604871844662064]"
     ]
    },
    {
     "name": "stderr",
     "output_type": "stream",
     "text": [
      "/home/ynesterov/miniconda3/lib/python3.9/site-packages/xgboost/sklearn.py:885: UserWarning: `early_stopping_rounds` in `fit` method is deprecated for better compatibility with scikit-learn, use `early_stopping_rounds` in constructor or`set_params` instead.\n",
      "  warnings.warn(\n",
      "\n"
     ]
    },
    {
     "name": "stdout",
     "output_type": "stream",
     "text": [
      "Best Threshold=0.0231986865401268, F-Score=0.11839348125046098, recall=0.2641255605381166, precision=0.05282037485427316\n",
      " 50%|█████████████████████▌                     | 75/150 [1:06:25<1:02:29, 50.00s/trial, best loss: -0.2604871844662064]"
     ]
    },
    {
     "name": "stderr",
     "output_type": "stream",
     "text": [
      "/home/ynesterov/miniconda3/lib/python3.9/site-packages/xgboost/sklearn.py:885: UserWarning: `early_stopping_rounds` in `fit` method is deprecated for better compatibility with scikit-learn, use `early_stopping_rounds` in constructor or`set_params` instead.\n",
      "  warnings.warn(\n",
      "\n"
     ]
    },
    {
     "name": "stdout",
     "output_type": "stream",
     "text": [
      "Best Threshold=0.5341979265213013, F-Score=0.2537484317981107, recall=0.34439461883408073, precision=0.1593691637269143 \n",
      " 51%|█████████████████████▊                     | 76/150 [1:07:19<1:03:01, 51.10s/trial, best loss: -0.2604871844662064]"
     ]
    },
    {
     "name": "stderr",
     "output_type": "stream",
     "text": [
      "/home/ynesterov/miniconda3/lib/python3.9/site-packages/xgboost/sklearn.py:885: UserWarning: `early_stopping_rounds` in `fit` method is deprecated for better compatibility with scikit-learn, use `early_stopping_rounds` in constructor or`set_params` instead.\n",
      "  warnings.warn(\n",
      "\n"
     ]
    },
    {
     "name": "stdout",
     "output_type": "stream",
     "text": [
      "Best Threshold=0.7502411007881165, F-Score=0.2437459666488882, recall=0.3717488789237668, precision=0.1373426110006627  \n",
      " 51%|██████████████████████                     | 77/150 [1:08:13<1:03:07, 51.89s/trial, best loss: -0.2604871844662064]"
     ]
    },
    {
     "name": "stderr",
     "output_type": "stream",
     "text": [
      "/home/ynesterov/miniconda3/lib/python3.9/site-packages/xgboost/sklearn.py:885: UserWarning: `early_stopping_rounds` in `fit` method is deprecated for better compatibility with scikit-learn, use `early_stopping_rounds` in constructor or`set_params` instead.\n",
      "  warnings.warn(\n",
      "\n"
     ]
    },
    {
     "name": "stdout",
     "output_type": "stream",
     "text": [
      "Best Threshold=0.48963266611099243, F-Score=0.25335187657031955, recall=0.36367713004484303, precision=0.15057556628295582\n",
      " 52%|██████████████████████▎                    | 78/150 [1:09:05<1:02:33, 52.13s/trial, best loss: -0.2604871844662064]"
     ]
    },
    {
     "name": "stderr",
     "output_type": "stream",
     "text": [
      "/home/ynesterov/miniconda3/lib/python3.9/site-packages/xgboost/sklearn.py:885: UserWarning: `early_stopping_rounds` in `fit` method is deprecated for better compatibility with scikit-learn, use `early_stopping_rounds` in constructor or`set_params` instead.\n",
      "  warnings.warn(\n",
      "\n"
     ]
    },
    {
     "name": "stdout",
     "output_type": "stream",
     "text": [
      "Best Threshold=0.44202205538749695, F-Score=0.2566013088288817, recall=0.33318385650224214, precision=0.16913271113134531\n",
      " 53%|██████████████████████▋                    | 79/150 [1:09:58<1:01:47, 52.22s/trial, best loss: -0.2604871844662064]"
     ]
    },
    {
     "name": "stderr",
     "output_type": "stream",
     "text": [
      "/home/ynesterov/miniconda3/lib/python3.9/site-packages/xgboost/sklearn.py:885: UserWarning: `early_stopping_rounds` in `fit` method is deprecated for better compatibility with scikit-learn, use `early_stopping_rounds` in constructor or`set_params` instead.\n",
      "  warnings.warn(\n",
      "\n"
     ]
    },
    {
     "name": "stdout",
     "output_type": "stream",
     "text": [
      "Best Threshold=0.04817342385649681, F-Score=0.128786964633365, recall=0.32286995515695066, precision=0.05474452554744526\n",
      " 53%|████████████████████████                     | 80/150 [1:10:44<58:47, 50.40s/trial, best loss: -0.2604871844662064]"
     ]
    },
    {
     "name": "stderr",
     "output_type": "stream",
     "text": [
      "/home/ynesterov/miniconda3/lib/python3.9/site-packages/xgboost/sklearn.py:885: UserWarning: `early_stopping_rounds` in `fit` method is deprecated for better compatibility with scikit-learn, use `early_stopping_rounds` in constructor or`set_params` instead.\n",
      "  warnings.warn(\n",
      "\n"
     ]
    },
    {
     "name": "stdout",
     "output_type": "stream",
     "text": [
      "Best Threshold=0.3719068765640259, F-Score=0.259130382113139, recall=0.352914798206278, precision=0.16216773130022666   \n",
      " 54%|████████████████████████▎                    | 81/150 [1:11:36<58:26, 50.82s/trial, best loss: -0.2604871844662064]"
     ]
    },
    {
     "name": "stderr",
     "output_type": "stream",
     "text": [
      "/home/ynesterov/miniconda3/lib/python3.9/site-packages/xgboost/sklearn.py:885: UserWarning: `early_stopping_rounds` in `fit` method is deprecated for better compatibility with scikit-learn, use `early_stopping_rounds` in constructor or`set_params` instead.\n",
      "  warnings.warn(\n",
      "\n"
     ]
    },
    {
     "name": "stdout",
     "output_type": "stream",
     "text": [
      "Best Threshold=0.3850155472755432, F-Score=0.25677359445866266, recall=0.33408071748878926, precision=0.16885766092475069\n",
      " 55%|████████████████████████▌                    | 82/150 [1:12:28<58:09, 51.32s/trial, best loss: -0.2604871844662064]"
     ]
    },
    {
     "name": "stderr",
     "output_type": "stream",
     "text": [
      "/home/ynesterov/miniconda3/lib/python3.9/site-packages/xgboost/sklearn.py:885: UserWarning: `early_stopping_rounds` in `fit` method is deprecated for better compatibility with scikit-learn, use `early_stopping_rounds` in constructor or`set_params` instead.\n",
      "  warnings.warn(\n",
      "\n"
     ]
    },
    {
     "name": "stdout",
     "output_type": "stream",
     "text": [
      "Best Threshold=0.6268895268440247, F-Score=0.24767861597266436, recall=0.3883408071748879, precision=0.13646391427670973\n",
      " 55%|████████████████████████▉                    | 83/150 [1:13:21<57:53, 51.84s/trial, best loss: -0.2604871844662064]"
     ]
    },
    {
     "name": "stderr",
     "output_type": "stream",
     "text": [
      "/home/ynesterov/miniconda3/lib/python3.9/site-packages/xgboost/sklearn.py:885: UserWarning: `early_stopping_rounds` in `fit` method is deprecated for better compatibility with scikit-learn, use `early_stopping_rounds` in constructor or`set_params` instead.\n",
      "  warnings.warn(\n",
      "\n"
     ]
    },
    {
     "name": "stdout",
     "output_type": "stream",
     "text": [
      "Best Threshold=0.6145730018615723, F-Score=0.2529906533471407, recall=0.3399103139013453, precision=0.16059322033898304 \n",
      " 56%|█████████████████████████▏                   | 84/150 [1:14:15<57:29, 52.26s/trial, best loss: -0.2604871844662064]"
     ]
    },
    {
     "name": "stderr",
     "output_type": "stream",
     "text": [
      "/home/ynesterov/miniconda3/lib/python3.9/site-packages/xgboost/sklearn.py:885: UserWarning: `early_stopping_rounds` in `fit` method is deprecated for better compatibility with scikit-learn, use `early_stopping_rounds` in constructor or`set_params` instead.\n",
      "  warnings.warn(\n",
      "\n"
     ]
    },
    {
     "name": "stdout",
     "output_type": "stream",
     "text": [
      "Best Threshold=0.3219112157821655, F-Score=0.26042793104254147, recall=0.3381165919282511, precision=0.17167577413479052\n",
      " 57%|█████████████████████████▌                   | 85/150 [1:15:08<56:51, 52.48s/trial, best loss: -0.2604871844662064]"
     ]
    },
    {
     "name": "stderr",
     "output_type": "stream",
     "text": [
      "/home/ynesterov/miniconda3/lib/python3.9/site-packages/xgboost/sklearn.py:885: UserWarning: `early_stopping_rounds` in `fit` method is deprecated for better compatibility with scikit-learn, use `early_stopping_rounds` in constructor or`set_params` instead.\n",
      "  warnings.warn(\n",
      "\n"
     ]
    },
    {
     "name": "stdout",
     "output_type": "stream",
     "text": [
      "Best Threshold=0.729824960231781, F-Score=0.24270239392892803, recall=0.3780269058295964, precision=0.13442832084197098 \n",
      " 57%|█████████████████████████▊                   | 86/150 [1:16:02<56:36, 53.07s/trial, best loss: -0.2604871844662064]"
     ]
    },
    {
     "name": "stderr",
     "output_type": "stream",
     "text": [
      "/home/ynesterov/miniconda3/lib/python3.9/site-packages/xgboost/sklearn.py:885: UserWarning: `early_stopping_rounds` in `fit` method is deprecated for better compatibility with scikit-learn, use `early_stopping_rounds` in constructor or`set_params` instead.\n",
      "  warnings.warn(\n",
      "\n"
     ]
    },
    {
     "name": "stdout",
     "output_type": "stream",
     "text": [
      "Best Threshold=0.6877075433731079, F-Score=0.24373906592551853, recall=0.3874439461883408, precision=0.13286175611256343\n",
      " 58%|██████████████████████████                   | 87/150 [1:16:56<56:08, 53.47s/trial, best loss: -0.2604871844662064]"
     ]
    },
    {
     "name": "stderr",
     "output_type": "stream",
     "text": [
      "/home/ynesterov/miniconda3/lib/python3.9/site-packages/xgboost/sklearn.py:885: UserWarning: `early_stopping_rounds` in `fit` method is deprecated for better compatibility with scikit-learn, use `early_stopping_rounds` in constructor or`set_params` instead.\n",
      "  warnings.warn(\n",
      "\n"
     ]
    },
    {
     "name": "stdout",
     "output_type": "stream",
     "text": [
      "Best Threshold=0.31441763043403625, F-Score=0.2584329709144331, recall=0.34618834080717487, precision=0.16457045406096782\n",
      " 59%|██████████████████████████▍                  | 88/150 [1:17:50<55:23, 53.60s/trial, best loss: -0.2604871844662064]"
     ]
    },
    {
     "name": "stderr",
     "output_type": "stream",
     "text": [
      "/home/ynesterov/miniconda3/lib/python3.9/site-packages/xgboost/sklearn.py:885: UserWarning: `early_stopping_rounds` in `fit` method is deprecated for better compatibility with scikit-learn, use `early_stopping_rounds` in constructor or`set_params` instead.\n",
      "  warnings.warn(\n",
      "\n"
     ]
    },
    {
     "name": "stdout",
     "output_type": "stream",
     "text": [
      "Best Threshold=0.45688071846961975, F-Score=0.2568120675440981, recall=0.35695067264573993, precision=0.1574367088607595\n",
      " 59%|██████████████████████████▋                  | 89/150 [1:18:42<53:58, 53.09s/trial, best loss: -0.2604871844662064]"
     ]
    },
    {
     "name": "stderr",
     "output_type": "stream",
     "text": [
      "/home/ynesterov/miniconda3/lib/python3.9/site-packages/xgboost/sklearn.py:885: UserWarning: `early_stopping_rounds` in `fit` method is deprecated for better compatibility with scikit-learn, use `early_stopping_rounds` in constructor or`set_params` instead.\n",
      "  warnings.warn(\n",
      "\n"
     ]
    },
    {
     "name": "stdout",
     "output_type": "stream",
     "text": [
      "Best Threshold=0.4838516116142273, F-Score=0.2552782249569852, recall=0.3695067264573991, precision=0.15055728119861136 \n",
      " 60%|███████████████████████████                  | 90/150 [1:19:34<52:45, 52.76s/trial, best loss: -0.2604871844662064]"
     ]
    },
    {
     "name": "stderr",
     "output_type": "stream",
     "text": [
      "/home/ynesterov/miniconda3/lib/python3.9/site-packages/xgboost/sklearn.py:885: UserWarning: `early_stopping_rounds` in `fit` method is deprecated for better compatibility with scikit-learn, use `early_stopping_rounds` in constructor or`set_params` instead.\n",
      "  warnings.warn(\n",
      "\n"
     ]
    },
    {
     "name": "stdout",
     "output_type": "stream",
     "text": [
      "Best Threshold=0.04870731756091118, F-Score=0.129402741626471, recall=0.32466367713004485, precision=0.05499012608233328\n",
      " 61%|███████████████████████████▎                 | 91/150 [1:20:20<49:58, 50.83s/trial, best loss: -0.2604871844662064]"
     ]
    },
    {
     "name": "stderr",
     "output_type": "stream",
     "text": [
      "/home/ynesterov/miniconda3/lib/python3.9/site-packages/xgboost/sklearn.py:885: UserWarning: `early_stopping_rounds` in `fit` method is deprecated for better compatibility with scikit-learn, use `early_stopping_rounds` in constructor or`set_params` instead.\n",
      "  warnings.warn(\n",
      "\n"
     ]
    },
    {
     "name": "stdout",
     "output_type": "stream",
     "text": [
      "Best Threshold=0.5348767042160034, F-Score=0.25387257632525995, recall=0.347085201793722, precision=0.15824984665712533 \n",
      " 61%|███████████████████████████▌                 | 92/150 [1:21:14<50:00, 51.73s/trial, best loss: -0.2604871844662064]"
     ]
    },
    {
     "name": "stderr",
     "output_type": "stream",
     "text": [
      "/home/ynesterov/miniconda3/lib/python3.9/site-packages/xgboost/sklearn.py:885: UserWarning: `early_stopping_rounds` in `fit` method is deprecated for better compatibility with scikit-learn, use `early_stopping_rounds` in constructor or`set_params` instead.\n",
      "  warnings.warn(\n",
      "\n"
     ]
    },
    {
     "name": "stdout",
     "output_type": "stream",
     "text": [
      "Best Threshold=0.4569582939147949, F-Score=0.254657260740798, recall=0.35739910313901346, precision=0.1546371750097012  \n",
      " 62%|███████████████████████████▉                 | 93/150 [1:22:08<49:37, 52.23s/trial, best loss: -0.2604871844662064]"
     ]
    },
    {
     "name": "stderr",
     "output_type": "stream",
     "text": [
      "/home/ynesterov/miniconda3/lib/python3.9/site-packages/xgboost/sklearn.py:885: UserWarning: `early_stopping_rounds` in `fit` method is deprecated for better compatibility with scikit-learn, use `early_stopping_rounds` in constructor or`set_params` instead.\n",
      "  warnings.warn(\n",
      "\n"
     ]
    },
    {
     "name": "stdout",
     "output_type": "stream",
     "text": [
      "Best Threshold=0.023472055792808533, F-Score=0.11930235319692516, recall=0.2681614349775785, precision=0.05304710369910405\n",
      " 63%|████████████████████████████▏                | 94/150 [1:22:54<47:07, 50.50s/trial, best loss: -0.2604871844662064]"
     ]
    },
    {
     "name": "stderr",
     "output_type": "stream",
     "text": [
      "/home/ynesterov/miniconda3/lib/python3.9/site-packages/xgboost/sklearn.py:885: UserWarning: `early_stopping_rounds` in `fit` method is deprecated for better compatibility with scikit-learn, use `early_stopping_rounds` in constructor or`set_params` instead.\n",
      "  warnings.warn(\n",
      "\n"
     ]
    },
    {
     "name": "stdout",
     "output_type": "stream",
     "text": [
      "Best Threshold=0.5609655380249023, F-Score=0.25049400755309464, recall=0.3757847533632287, precision=0.1431255337318531 \n",
      " 63%|████████████████████████████▌                | 95/150 [1:23:47<46:59, 51.26s/trial, best loss: -0.2604871844662064]"
     ]
    },
    {
     "name": "stderr",
     "output_type": "stream",
     "text": [
      "/home/ynesterov/miniconda3/lib/python3.9/site-packages/xgboost/sklearn.py:885: UserWarning: `early_stopping_rounds` in `fit` method is deprecated for better compatibility with scikit-learn, use `early_stopping_rounds` in constructor or`set_params` instead.\n",
      "  warnings.warn(\n",
      "\n"
     ]
    },
    {
     "name": "stdout",
     "output_type": "stream",
     "text": [
      "Best Threshold=0.6663748621940613, F-Score=0.2494640655951181, recall=0.3775784753363229, precision=0.14146505376344087 \n",
      " 64%|████████████████████████████▊                | 96/150 [1:24:40<46:32, 51.72s/trial, best loss: -0.2604871844662064]"
     ]
    },
    {
     "name": "stderr",
     "output_type": "stream",
     "text": [
      "/home/ynesterov/miniconda3/lib/python3.9/site-packages/xgboost/sklearn.py:885: UserWarning: `early_stopping_rounds` in `fit` method is deprecated for better compatibility with scikit-learn, use `early_stopping_rounds` in constructor or`set_params` instead.\n",
      "  warnings.warn(\n",
      "\n"
     ]
    },
    {
     "name": "stdout",
     "output_type": "stream",
     "text": [
      "Best Threshold=0.31868964433670044, F-Score=0.25835276763703374, recall=0.3376681614349776, precision=0.16902356902356902\n",
      " 65%|█████████████████████████████                | 97/150 [1:25:32<45:51, 51.91s/trial, best loss: -0.2604871844662064]"
     ]
    },
    {
     "name": "stderr",
     "output_type": "stream",
     "text": [
      "/home/ynesterov/miniconda3/lib/python3.9/site-packages/xgboost/sklearn.py:885: UserWarning: `early_stopping_rounds` in `fit` method is deprecated for better compatibility with scikit-learn, use `early_stopping_rounds` in constructor or`set_params` instead.\n",
      "  warnings.warn(\n",
      "\n"
     ]
    },
    {
     "name": "stdout",
     "output_type": "stream",
     "text": [
      "Best Threshold=0.38089269399642944, F-Score=0.25841253685790544, recall=0.3417040358744395, precision=0.16688567674113008\n",
      " 65%|█████████████████████████████▍               | 98/150 [1:26:25<45:10, 52.13s/trial, best loss: -0.2604871844662064]"
     ]
    },
    {
     "name": "stderr",
     "output_type": "stream",
     "text": [
      "/home/ynesterov/miniconda3/lib/python3.9/site-packages/xgboost/sklearn.py:885: UserWarning: `early_stopping_rounds` in `fit` method is deprecated for better compatibility with scikit-learn, use `early_stopping_rounds` in constructor or`set_params` instead.\n",
      "  warnings.warn(\n",
      "\n"
     ]
    },
    {
     "name": "stdout",
     "output_type": "stream",
     "text": [
      "Best Threshold=0.04896201193332672, F-Score=0.12893530282452137, recall=0.31614349775784756, precision=0.05528111032698189\n",
      " 66%|█████████████████████████████▋               | 99/150 [1:27:11<42:39, 50.18s/trial, best loss: -0.2604871844662064]"
     ]
    },
    {
     "name": "stderr",
     "output_type": "stream",
     "text": [
      "/home/ynesterov/miniconda3/lib/python3.9/site-packages/xgboost/sklearn.py:885: UserWarning: `early_stopping_rounds` in `fit` method is deprecated for better compatibility with scikit-learn, use `early_stopping_rounds` in constructor or`set_params` instead.\n",
      "  warnings.warn(\n",
      "\n"
     ]
    },
    {
     "name": "stdout",
     "output_type": "stream",
     "text": [
      "Best Threshold=0.7587583065032959, F-Score=0.24839879905413284, recall=0.3345291479820628, precision=0.15728441914400168\n",
      " 67%|█████████████████████████████▎              | 100/150 [1:28:05<42:48, 51.37s/trial, best loss: -0.2604871844662064]"
     ]
    },
    {
     "name": "stderr",
     "output_type": "stream",
     "text": [
      "/home/ynesterov/miniconda3/lib/python3.9/site-packages/xgboost/sklearn.py:885: UserWarning: `early_stopping_rounds` in `fit` method is deprecated for better compatibility with scikit-learn, use `early_stopping_rounds` in constructor or`set_params` instead.\n",
      "  warnings.warn(\n",
      "\n"
     ]
    },
    {
     "name": "stdout",
     "output_type": "stream",
     "text": [
      "Best Threshold=0.6955367922782898, F-Score=0.24371407765167757, recall=0.34573991031390133, precision=0.14646656534954408\n",
      " 67%|█████████████████████████████▋              | 101/150 [1:28:59<42:42, 52.30s/trial, best loss: -0.2604871844662064]"
     ]
    },
    {
     "name": "stderr",
     "output_type": "stream",
     "text": [
      "/home/ynesterov/miniconda3/lib/python3.9/site-packages/xgboost/sklearn.py:885: UserWarning: `early_stopping_rounds` in `fit` method is deprecated for better compatibility with scikit-learn, use `early_stopping_rounds` in constructor or`set_params` instead.\n",
      "  warnings.warn(\n",
      "\n"
     ]
    },
    {
     "name": "stdout",
     "output_type": "stream",
     "text": [
      "Best Threshold=0.023616814985871315, F-Score=0.11758737758009703, recall=0.22914798206278028, precision=0.05611684603558094\n",
      " 68%|█████████████████████████████▉              | 102/150 [1:29:46<40:26, 50.56s/trial, best loss: -0.2604871844662064]"
     ]
    },
    {
     "name": "stderr",
     "output_type": "stream",
     "text": [
      "/home/ynesterov/miniconda3/lib/python3.9/site-packages/xgboost/sklearn.py:885: UserWarning: `early_stopping_rounds` in `fit` method is deprecated for better compatibility with scikit-learn, use `early_stopping_rounds` in constructor or`set_params` instead.\n",
      "  warnings.warn(\n",
      "\n"
     ]
    },
    {
     "name": "stdout",
     "output_type": "stream",
     "text": [
      "Best Threshold=0.5218329429626465, F-Score=0.2543873098686163, recall=0.3609865470852018, precision=0.15283842794759825 \n",
      " 69%|██████████████████████████████▏             | 103/150 [1:30:39<40:15, 51.40s/trial, best loss: -0.2604871844662064]"
     ]
    },
    {
     "name": "stderr",
     "output_type": "stream",
     "text": [
      "/home/ynesterov/miniconda3/lib/python3.9/site-packages/xgboost/sklearn.py:885: UserWarning: `early_stopping_rounds` in `fit` method is deprecated for better compatibility with scikit-learn, use `early_stopping_rounds` in constructor or`set_params` instead.\n",
      "  warnings.warn(\n",
      "\n"
     ]
    },
    {
     "name": "stdout",
     "output_type": "stream",
     "text": [
      "Best Threshold=0.5661038756370544, F-Score=0.25194274291374497, recall=0.342152466367713, precision=0.15813471502590673 \n",
      " 69%|██████████████████████████████▌             | 104/150 [1:31:33<39:59, 52.16s/trial, best loss: -0.2604871844662064]"
     ]
    },
    {
     "name": "stderr",
     "output_type": "stream",
     "text": [
      "/home/ynesterov/miniconda3/lib/python3.9/site-packages/xgboost/sklearn.py:885: UserWarning: `early_stopping_rounds` in `fit` method is deprecated for better compatibility with scikit-learn, use `early_stopping_rounds` in constructor or`set_params` instead.\n",
      "  warnings.warn(\n",
      "\n"
     ]
    },
    {
     "name": "stdout",
     "output_type": "stream",
     "text": [
      "Best Threshold=0.6706047058105469, F-Score=0.24742206756046894, recall=0.3493273542600897, precision=0.14937679769894535\n",
      " 70%|██████████████████████████████▊             | 105/150 [1:32:28<39:45, 53.01s/trial, best loss: -0.2604871844662064]"
     ]
    },
    {
     "name": "stderr",
     "output_type": "stream",
     "text": [
      "/home/ynesterov/miniconda3/lib/python3.9/site-packages/xgboost/sklearn.py:885: UserWarning: `early_stopping_rounds` in `fit` method is deprecated for better compatibility with scikit-learn, use `early_stopping_rounds` in constructor or`set_params` instead.\n",
      "  warnings.warn(\n",
      "\n"
     ]
    },
    {
     "name": "stdout",
     "output_type": "stream",
     "text": [
      "Best Threshold=0.4951149523258209, F-Score=0.2535630297421957, recall=0.34977578475336324, precision=0.1566265060240964 \n",
      " 71%|███████████████████████████████             | 106/150 [1:33:21<38:50, 52.97s/trial, best loss: -0.2604871844662064]"
     ]
    },
    {
     "name": "stderr",
     "output_type": "stream",
     "text": [
      "/home/ynesterov/miniconda3/lib/python3.9/site-packages/xgboost/sklearn.py:885: UserWarning: `early_stopping_rounds` in `fit` method is deprecated for better compatibility with scikit-learn, use `early_stopping_rounds` in constructor or`set_params` instead.\n",
      "  warnings.warn(\n",
      "\n"
     ]
    },
    {
     "name": "stdout",
     "output_type": "stream",
     "text": [
      "Best Threshold=0.6307623386383057, F-Score=0.25280122107237163, recall=0.3439461883408072, precision=0.15837290935370638\n",
      " 71%|███████████████████████████████▍            | 107/150 [1:34:13<37:50, 52.81s/trial, best loss: -0.2604871844662064]"
     ]
    },
    {
     "name": "stderr",
     "output_type": "stream",
     "text": [
      "/home/ynesterov/miniconda3/lib/python3.9/site-packages/xgboost/sklearn.py:885: UserWarning: `early_stopping_rounds` in `fit` method is deprecated for better compatibility with scikit-learn, use `early_stopping_rounds` in constructor or`set_params` instead.\n",
      "  warnings.warn(\n",
      "\n"
     ]
    },
    {
     "name": "stdout",
     "output_type": "stream",
     "text": [
      "Best Threshold=0.426859974861145, F-Score=0.2566440302589554, recall=0.347085201793722, precision=0.16178929765886288   \n",
      " 72%|███████████████████████████████▋            | 108/150 [1:35:06<36:59, 52.84s/trial, best loss: -0.2604871844662064]"
     ]
    },
    {
     "name": "stderr",
     "output_type": "stream",
     "text": [
      "/home/ynesterov/miniconda3/lib/python3.9/site-packages/xgboost/sklearn.py:885: UserWarning: `early_stopping_rounds` in `fit` method is deprecated for better compatibility with scikit-learn, use `early_stopping_rounds` in constructor or`set_params` instead.\n",
      "  warnings.warn(\n",
      "\n"
     ]
    },
    {
     "name": "stdout",
     "output_type": "stream",
     "text": [
      "Best Threshold=0.31697985529899597, F-Score=0.26035358505550094, recall=0.3430493273542601, precision=0.16879964695498675\n",
      " 73%|███████████████████████████████▉            | 109/150 [1:35:59<36:01, 52.71s/trial, best loss: -0.2604871844662064]"
     ]
    },
    {
     "name": "stderr",
     "output_type": "stream",
     "text": [
      "/home/ynesterov/miniconda3/lib/python3.9/site-packages/xgboost/sklearn.py:885: UserWarning: `early_stopping_rounds` in `fit` method is deprecated for better compatibility with scikit-learn, use `early_stopping_rounds` in constructor or`set_params` instead.\n",
      "  warnings.warn(\n",
      "\n"
     ]
    },
    {
     "name": "stdout",
     "output_type": "stream",
     "text": [
      "Best Threshold=0.5767859816551208, F-Score=0.25227203869117487, recall=0.3618834080717489, precision=0.15002788622420524\n",
      " 73%|████████████████████████████████▎           | 110/150 [1:36:52<35:10, 52.76s/trial, best loss: -0.2604871844662064]"
     ]
    },
    {
     "name": "stderr",
     "output_type": "stream",
     "text": [
      "/home/ynesterov/miniconda3/lib/python3.9/site-packages/xgboost/sklearn.py:885: UserWarning: `early_stopping_rounds` in `fit` method is deprecated for better compatibility with scikit-learn, use `early_stopping_rounds` in constructor or`set_params` instead.\n",
      "  warnings.warn(\n",
      "\n"
     ]
    },
    {
     "name": "stdout",
     "output_type": "stream",
     "text": [
      "Best Threshold=0.04835914075374603, F-Score=0.12921626003033934, recall=0.32690582959641257, precision=0.054737948640937076\n",
      " 74%|████████████████████████████████▌           | 111/150 [1:37:38<32:59, 50.76s/trial, best loss: -0.2604871844662064]"
     ]
    },
    {
     "name": "stderr",
     "output_type": "stream",
     "text": [
      "/home/ynesterov/miniconda3/lib/python3.9/site-packages/xgboost/sklearn.py:885: UserWarning: `early_stopping_rounds` in `fit` method is deprecated for better compatibility with scikit-learn, use `early_stopping_rounds` in constructor or`set_params` instead.\n",
      "  warnings.warn(\n",
      "\n"
     ]
    },
    {
     "name": "stdout",
     "output_type": "stream",
     "text": [
      "Best Threshold=0.4510723054409027, F-Score=0.253932764166372, recall=0.36412556053811657, precision=0.15106976744186046 \n",
      " 75%|████████████████████████████████▊           | 112/150 [1:38:31<32:44, 51.69s/trial, best loss: -0.2604871844662064]"
     ]
    },
    {
     "name": "stderr",
     "output_type": "stream",
     "text": [
      "/home/ynesterov/miniconda3/lib/python3.9/site-packages/xgboost/sklearn.py:885: UserWarning: `early_stopping_rounds` in `fit` method is deprecated for better compatibility with scikit-learn, use `early_stopping_rounds` in constructor or`set_params` instead.\n",
      "  warnings.warn(\n",
      "\n"
     ]
    },
    {
     "name": "stdout",
     "output_type": "stream",
     "text": [
      "Best Threshold=0.32109859585762024, F-Score=0.26112512187584497, recall=0.3412556053811659, precision=0.17085765603951505\n",
      " 75%|████████████████████████████████▍          | 113/150 [1:39:24<32:06, 52.06s/trial, best loss: -0.26112512187584497]"
     ]
    },
    {
     "name": "stderr",
     "output_type": "stream",
     "text": [
      "/home/ynesterov/miniconda3/lib/python3.9/site-packages/xgboost/sklearn.py:885: UserWarning: `early_stopping_rounds` in `fit` method is deprecated for better compatibility with scikit-learn, use `early_stopping_rounds` in constructor or`set_params` instead.\n",
      "  warnings.warn(\n",
      "\n"
     ]
    },
    {
     "name": "stdout",
     "output_type": "stream",
     "text": [
      "Best Threshold=0.6424319744110107, F-Score=0.24813054943495957, recall=0.34573991031390133, precision=0.15174178311356032\n",
      " 76%|████████████████████████████████▋          | 114/150 [1:40:18<31:31, 52.54s/trial, best loss: -0.26112512187584497]"
     ]
    },
    {
     "name": "stderr",
     "output_type": "stream",
     "text": [
      "/home/ynesterov/miniconda3/lib/python3.9/site-packages/xgboost/sklearn.py:885: UserWarning: `early_stopping_rounds` in `fit` method is deprecated for better compatibility with scikit-learn, use `early_stopping_rounds` in constructor or`set_params` instead.\n",
      "  warnings.warn(\n",
      "\n"
     ]
    },
    {
     "name": "stdout",
     "output_type": "stream",
     "text": [
      "Best Threshold=0.02323903702199459, F-Score=0.11824366566050412, recall=0.26367713004484306, precision=0.052763819095477386\n",
      " 77%|████████████████████████████████▉          | 115/150 [1:41:04<29:32, 50.66s/trial, best loss: -0.26112512187584497]"
     ]
    },
    {
     "name": "stderr",
     "output_type": "stream",
     "text": [
      "/home/ynesterov/miniconda3/lib/python3.9/site-packages/xgboost/sklearn.py:885: UserWarning: `early_stopping_rounds` in `fit` method is deprecated for better compatibility with scikit-learn, use `early_stopping_rounds` in constructor or`set_params` instead.\n",
      "  warnings.warn(\n",
      "\n"
     ]
    },
    {
     "name": "stdout",
     "output_type": "stream",
     "text": [
      "Best Threshold=0.3721325099468231, F-Score=0.25869297370451816, recall=0.3515695067264574, precision=0.16225165562913907\n",
      " 77%|█████████████████████████████████▎         | 116/150 [1:41:57<29:03, 51.29s/trial, best loss: -0.26112512187584497]"
     ]
    },
    {
     "name": "stderr",
     "output_type": "stream",
     "text": [
      "/home/ynesterov/miniconda3/lib/python3.9/site-packages/xgboost/sklearn.py:885: UserWarning: `early_stopping_rounds` in `fit` method is deprecated for better compatibility with scikit-learn, use `early_stopping_rounds` in constructor or`set_params` instead.\n",
      "  warnings.warn(\n",
      "\n"
     ]
    },
    {
     "name": "stdout",
     "output_type": "stream",
     "text": [
      "Best Threshold=0.5525738000869751, F-Score=0.2511065334594864, recall=0.3560538116591928, precision=0.15097927362616467 \n",
      " 78%|█████████████████████████████████▌         | 117/150 [1:42:50<28:31, 51.86s/trial, best loss: -0.26112512187584497]"
     ]
    },
    {
     "name": "stderr",
     "output_type": "stream",
     "text": [
      "/home/ynesterov/miniconda3/lib/python3.9/site-packages/xgboost/sklearn.py:885: UserWarning: `early_stopping_rounds` in `fit` method is deprecated for better compatibility with scikit-learn, use `early_stopping_rounds` in constructor or`set_params` instead.\n",
      "  warnings.warn(\n",
      "\n"
     ]
    },
    {
     "name": "stdout",
     "output_type": "stream",
     "text": [
      "Best Threshold=0.7840666770935059, F-Score=0.2433972158055048, recall=0.305829596412556, precision=0.16678894595255564  \n",
      " 79%|█████████████████████████████████▊         | 118/150 [1:43:43<27:51, 52.23s/trial, best loss: -0.26112512187584497]"
     ]
    },
    {
     "name": "stderr",
     "output_type": "stream",
     "text": [
      "/home/ynesterov/miniconda3/lib/python3.9/site-packages/xgboost/sklearn.py:885: UserWarning: `early_stopping_rounds` in `fit` method is deprecated for better compatibility with scikit-learn, use `early_stopping_rounds` in constructor or`set_params` instead.\n",
      "  warnings.warn(\n",
      "\n"
     ]
    },
    {
     "name": "stdout",
     "output_type": "stream",
     "text": [
      "Best Threshold=0.7374736666679382, F-Score=0.24365420221151363, recall=0.3291479820627803, precision=0.1537816886654096 \n",
      " 79%|██████████████████████████████████         | 119/150 [1:44:37<27:16, 52.80s/trial, best loss: -0.26112512187584497]"
     ]
    },
    {
     "name": "stderr",
     "output_type": "stream",
     "text": [
      "/home/ynesterov/miniconda3/lib/python3.9/site-packages/xgboost/sklearn.py:885: UserWarning: `early_stopping_rounds` in `fit` method is deprecated for better compatibility with scikit-learn, use `early_stopping_rounds` in constructor or`set_params` instead.\n",
      "  warnings.warn(\n",
      "\n"
     ]
    },
    {
     "name": "stdout",
     "output_type": "stream",
     "text": [
      "Best Threshold=0.4267767667770386, F-Score=0.2580063974043215, recall=0.352914798206278, precision=0.1607434640522876   \n",
      " 80%|██████████████████████████████████▍        | 120/150 [1:45:31<26:28, 52.94s/trial, best loss: -0.26112512187584497]"
     ]
    },
    {
     "name": "stderr",
     "output_type": "stream",
     "text": [
      "/home/ynesterov/miniconda3/lib/python3.9/site-packages/xgboost/sklearn.py:885: UserWarning: `early_stopping_rounds` in `fit` method is deprecated for better compatibility with scikit-learn, use `early_stopping_rounds` in constructor or`set_params` instead.\n",
      "  warnings.warn(\n",
      "\n"
     ]
    },
    {
     "name": "stdout",
     "output_type": "stream",
     "text": [
      "Best Threshold=0.3130793571472168, F-Score=0.2608860487984572, recall=0.3484304932735426, precision=0.16666666666666666 \n",
      " 81%|██████████████████████████████████▋        | 121/150 [1:46:24<25:37, 53.00s/trial, best loss: -0.26112512187584497]"
     ]
    },
    {
     "name": "stderr",
     "output_type": "stream",
     "text": [
      "/home/ynesterov/miniconda3/lib/python3.9/site-packages/xgboost/sklearn.py:885: UserWarning: `early_stopping_rounds` in `fit` method is deprecated for better compatibility with scikit-learn, use `early_stopping_rounds` in constructor or`set_params` instead.\n",
      "  warnings.warn(\n",
      "\n"
     ]
    },
    {
     "name": "stdout",
     "output_type": "stream",
     "text": [
      "Best Threshold=0.618442952632904, F-Score=0.2525894450162849, recall=0.3381165919282511, precision=0.1609735269000854   \n",
      " 81%|██████████████████████████████████▉        | 122/150 [1:47:17<24:42, 52.93s/trial, best loss: -0.26112512187584497]"
     ]
    },
    {
     "name": "stderr",
     "output_type": "stream",
     "text": [
      "/home/ynesterov/miniconda3/lib/python3.9/site-packages/xgboost/sklearn.py:885: UserWarning: `early_stopping_rounds` in `fit` method is deprecated for better compatibility with scikit-learn, use `early_stopping_rounds` in constructor or`set_params` instead.\n",
      "  warnings.warn(\n",
      "\n"
     ]
    },
    {
     "name": "stdout",
     "output_type": "stream",
     "text": [
      "Best Threshold=0.522177517414093, F-Score=0.2554192297702467, recall=0.33408071748878926, precision=0.16696548632900046 \n",
      " 82%|███████████████████████████████████▎       | 123/150 [1:48:10<23:50, 52.98s/trial, best loss: -0.26112512187584497]"
     ]
    },
    {
     "name": "stderr",
     "output_type": "stream",
     "text": [
      "/home/ynesterov/miniconda3/lib/python3.9/site-packages/xgboost/sklearn.py:885: UserWarning: `early_stopping_rounds` in `fit` method is deprecated for better compatibility with scikit-learn, use `early_stopping_rounds` in constructor or`set_params` instead.\n",
      "  warnings.warn(\n",
      "\n"
     ]
    },
    {
     "name": "stdout",
     "output_type": "stream",
     "text": [
      "Best Threshold=0.023365870118141174, F-Score=0.11954996636366341, recall=0.2699551569506726, precision=0.05304899541769475\n",
      " 83%|███████████████████████████████████▌       | 124/150 [1:48:55<21:57, 50.66s/trial, best loss: -0.26112512187584497]"
     ]
    },
    {
     "name": "stderr",
     "output_type": "stream",
     "text": [
      "/home/ynesterov/miniconda3/lib/python3.9/site-packages/xgboost/sklearn.py:885: UserWarning: `early_stopping_rounds` in `fit` method is deprecated for better compatibility with scikit-learn, use `early_stopping_rounds` in constructor or`set_params` instead.\n",
      "  warnings.warn(\n",
      "\n"
     ]
    },
    {
     "name": "stdout",
     "output_type": "stream",
     "text": [
      "Best Threshold=0.4529537856578827, F-Score=0.25543205461535773, recall=0.36412556053811657, precision=0.15280391418893488\n",
      " 83%|███████████████████████████████████▊       | 125/150 [1:49:47<21:18, 51.14s/trial, best loss: -0.26112512187584497]"
     ]
    },
    {
     "name": "stderr",
     "output_type": "stream",
     "text": [
      "/home/ynesterov/miniconda3/lib/python3.9/site-packages/xgboost/sklearn.py:885: UserWarning: `early_stopping_rounds` in `fit` method is deprecated for better compatibility with scikit-learn, use `early_stopping_rounds` in constructor or`set_params` instead.\n",
      "  warnings.warn(\n",
      "\n"
     ]
    },
    {
     "name": "stdout",
     "output_type": "stream",
     "text": [
      "Best Threshold=0.6489326357841492, F-Score=0.25126843448663044, recall=0.3654708520179372, precision=0.14753801593048516\n",
      " 84%|████████████████████████████████████       | 126/150 [1:50:40<20:39, 51.63s/trial, best loss: -0.26112512187584497]"
     ]
    },
    {
     "name": "stderr",
     "output_type": "stream",
     "text": [
      "/home/ynesterov/miniconda3/lib/python3.9/site-packages/xgboost/sklearn.py:885: UserWarning: `early_stopping_rounds` in `fit` method is deprecated for better compatibility with scikit-learn, use `early_stopping_rounds` in constructor or`set_params` instead.\n",
      "  warnings.warn(\n",
      "\n"
     ]
    },
    {
     "name": "stdout",
     "output_type": "stream",
     "text": [
      "Best Threshold=0.23078417778015137, F-Score=0.26457942139000973, recall=0.35336322869955156, precision=0.16902616902616902\n",
      " 85%|████████████████████████████████████▍      | 127/150 [1:51:34<20:03, 52.31s/trial, best loss: -0.26457942139000973]"
     ]
    },
    {
     "name": "stderr",
     "output_type": "stream",
     "text": [
      "/home/ynesterov/miniconda3/lib/python3.9/site-packages/xgboost/sklearn.py:885: UserWarning: `early_stopping_rounds` in `fit` method is deprecated for better compatibility with scikit-learn, use `early_stopping_rounds` in constructor or`set_params` instead.\n",
      "  warnings.warn(\n",
      "\n"
     ]
    },
    {
     "name": "stdout",
     "output_type": "stream",
     "text": [
      "Best Threshold=0.7017247080802917, F-Score=0.24976623519431448, recall=0.3506726457399103, precision=0.15160915083365645\n",
      " 85%|████████████████████████████████████▋      | 128/150 [1:52:27<19:13, 52.43s/trial, best loss: -0.26457942139000973]"
     ]
    },
    {
     "name": "stderr",
     "output_type": "stream",
     "text": [
      "/home/ynesterov/miniconda3/lib/python3.9/site-packages/xgboost/sklearn.py:885: UserWarning: `early_stopping_rounds` in `fit` method is deprecated for better compatibility with scikit-learn, use `early_stopping_rounds` in constructor or`set_params` instead.\n",
      "  warnings.warn(\n",
      "\n"
     ]
    },
    {
     "name": "stdout",
     "output_type": "stream",
     "text": [
      "Best Threshold=0.31327298283576965, F-Score=0.261155852239506, recall=0.3484304932735426, precision=0.1670249355116079  \n",
      " 86%|████████████████████████████████████▉      | 129/150 [1:53:20<18:25, 52.63s/trial, best loss: -0.26457942139000973]"
     ]
    },
    {
     "name": "stderr",
     "output_type": "stream",
     "text": [
      "/home/ynesterov/miniconda3/lib/python3.9/site-packages/xgboost/sklearn.py:885: UserWarning: `early_stopping_rounds` in `fit` method is deprecated for better compatibility with scikit-learn, use `early_stopping_rounds` in constructor or`set_params` instead.\n",
      "  warnings.warn(\n",
      "\n"
     ]
    },
    {
     "name": "stdout",
     "output_type": "stream",
     "text": [
      "Best Threshold=0.2307574599981308, F-Score=0.26460675825104735, recall=0.35336322869955156, precision=0.16906243295430165\n",
      " 87%|█████████████████████████████████████▎     | 130/150 [1:54:14<17:41, 53.08s/trial, best loss: -0.26460675825104735]"
     ]
    },
    {
     "name": "stderr",
     "output_type": "stream",
     "text": [
      "/home/ynesterov/miniconda3/lib/python3.9/site-packages/xgboost/sklearn.py:885: UserWarning: `early_stopping_rounds` in `fit` method is deprecated for better compatibility with scikit-learn, use `early_stopping_rounds` in constructor or`set_params` instead.\n",
      "  warnings.warn(\n",
      "\n"
     ]
    },
    {
     "name": "stdout",
     "output_type": "stream",
     "text": [
      "Best Threshold=0.3835662603378296, F-Score=0.25937250968259523, recall=0.3412556053811659, precision=0.1684373616644533 \n",
      " 87%|█████████████████████████████████████▌     | 131/150 [1:55:07<16:46, 52.98s/trial, best loss: -0.26460675825104735]"
     ]
    },
    {
     "name": "stderr",
     "output_type": "stream",
     "text": [
      "/home/ynesterov/miniconda3/lib/python3.9/site-packages/xgboost/sklearn.py:885: UserWarning: `early_stopping_rounds` in `fit` method is deprecated for better compatibility with scikit-learn, use `early_stopping_rounds` in constructor or`set_params` instead.\n",
      "  warnings.warn(\n",
      "\n"
     ]
    },
    {
     "name": "stdout",
     "output_type": "stream",
     "text": [
      "Best Threshold=0.24003899097442627, F-Score=0.2627278383329269, recall=0.33856502242152464, precision=0.17468764460897732\n",
      " 88%|█████████████████████████████████████▊     | 132/150 [1:56:01<15:59, 53.30s/trial, best loss: -0.26460675825104735]"
     ]
    },
    {
     "name": "stderr",
     "output_type": "stream",
     "text": [
      "/home/ynesterov/miniconda3/lib/python3.9/site-packages/xgboost/sklearn.py:885: UserWarning: `early_stopping_rounds` in `fit` method is deprecated for better compatibility with scikit-learn, use `early_stopping_rounds` in constructor or`set_params` instead.\n",
      "  warnings.warn(\n",
      "\n"
     ]
    },
    {
     "name": "stdout",
     "output_type": "stream",
     "text": [
      "Best Threshold=0.239324688911438, F-Score=0.2623345956361331, recall=0.33856502242152464, precision=0.17412361623616235 \n",
      " 89%|██████████████████████████████████████▏    | 133/150 [1:56:53<15:02, 53.11s/trial, best loss: -0.26460675825104735]"
     ]
    },
    {
     "name": "stderr",
     "output_type": "stream",
     "text": [
      "/home/ynesterov/miniconda3/lib/python3.9/site-packages/xgboost/sklearn.py:885: UserWarning: `early_stopping_rounds` in `fit` method is deprecated for better compatibility with scikit-learn, use `early_stopping_rounds` in constructor or`set_params` instead.\n",
      "  warnings.warn(\n",
      "\n"
     ]
    },
    {
     "name": "stdout",
     "output_type": "stream",
     "text": [
      "Best Threshold=0.02374117262661457, F-Score=0.11817304355778331, recall=0.2282511210762332, precision=0.056675203206769845\n",
      " 89%|██████████████████████████████████████▍    | 134/150 [1:57:38<13:31, 50.73s/trial, best loss: -0.26460675825104735]"
     ]
    },
    {
     "name": "stderr",
     "output_type": "stream",
     "text": [
      "/home/ynesterov/miniconda3/lib/python3.9/site-packages/xgboost/sklearn.py:885: UserWarning: `early_stopping_rounds` in `fit` method is deprecated for better compatibility with scikit-learn, use `early_stopping_rounds` in constructor or`set_params` instead.\n",
      "  warnings.warn(\n",
      "\n"
     ]
    },
    {
     "name": "stdout",
     "output_type": "stream",
     "text": [
      "Best Threshold=0.4332793056964874, F-Score=0.2572432191265596, recall=0.34484304932735427, precision=0.16368667518092805\n",
      " 90%|██████████████████████████████████████▋    | 135/150 [1:58:31<12:51, 51.40s/trial, best loss: -0.26460675825104735]"
     ]
    },
    {
     "name": "stderr",
     "output_type": "stream",
     "text": [
      "/home/ynesterov/miniconda3/lib/python3.9/site-packages/xgboost/sklearn.py:885: UserWarning: `early_stopping_rounds` in `fit` method is deprecated for better compatibility with scikit-learn, use `early_stopping_rounds` in constructor or`set_params` instead.\n",
      "  warnings.warn(\n",
      "\n"
     ]
    },
    {
     "name": "stdout",
     "output_type": "stream",
     "text": [
      "Best Threshold=0.24111193418502808, F-Score=0.2610563818328146, recall=0.3367713004484305, precision=0.17336103416435827\n",
      " 91%|██████████████████████████████████████▉    | 136/150 [1:59:25<12:06, 51.90s/trial, best loss: -0.26460675825104735]"
     ]
    },
    {
     "name": "stderr",
     "output_type": "stream",
     "text": [
      "/home/ynesterov/miniconda3/lib/python3.9/site-packages/xgboost/sklearn.py:885: UserWarning: `early_stopping_rounds` in `fit` method is deprecated for better compatibility with scikit-learn, use `early_stopping_rounds` in constructor or`set_params` instead.\n",
      "  warnings.warn(\n",
      "\n"
     ]
    },
    {
     "name": "stdout",
     "output_type": "stream",
     "text": [
      "Best Threshold=0.5542378425598145, F-Score=0.2539248095497891, recall=0.3291479820627803, precision=0.16769476810600867 \n",
      " 91%|███████████████████████████████████████▎   | 137/150 [2:00:17<11:17, 52.10s/trial, best loss: -0.26460675825104735]"
     ]
    },
    {
     "name": "stderr",
     "output_type": "stream",
     "text": [
      "/home/ynesterov/miniconda3/lib/python3.9/site-packages/xgboost/sklearn.py:885: UserWarning: `early_stopping_rounds` in `fit` method is deprecated for better compatibility with scikit-learn, use `early_stopping_rounds` in constructor or`set_params` instead.\n",
      "  warnings.warn(\n",
      "\n"
     ]
    },
    {
     "name": "stdout",
     "output_type": "stream",
     "text": [
      "Best Threshold=0.7582177519798279, F-Score=0.24939287458620002, recall=0.33318385650224214, precision=0.1592711682743837\n",
      " 92%|███████████████████████████████████████▌   | 138/150 [2:01:10<10:28, 52.36s/trial, best loss: -0.26460675825104735]"
     ]
    },
    {
     "name": "stderr",
     "output_type": "stream",
     "text": [
      "/home/ynesterov/miniconda3/lib/python3.9/site-packages/xgboost/sklearn.py:885: UserWarning: `early_stopping_rounds` in `fit` method is deprecated for better compatibility with scikit-learn, use `early_stopping_rounds` in constructor or`set_params` instead.\n",
      "  warnings.warn(\n",
      "\n"
     ]
    },
    {
     "name": "stdout",
     "output_type": "stream",
     "text": [
      "Best Threshold=0.5784561634063721, F-Score=0.2539380870824551, recall=0.35919282511210765, precision=0.15303782957585021\n",
      " 93%|███████████████████████████████████████▊   | 139/150 [2:02:03<09:36, 52.39s/trial, best loss: -0.26460675825104735]"
     ]
    },
    {
     "name": "stderr",
     "output_type": "stream",
     "text": [
      "/home/ynesterov/miniconda3/lib/python3.9/site-packages/xgboost/sklearn.py:885: UserWarning: `early_stopping_rounds` in `fit` method is deprecated for better compatibility with scikit-learn, use `early_stopping_rounds` in constructor or`set_params` instead.\n",
      "  warnings.warn(\n",
      "\n"
     ]
    },
    {
     "name": "stdout",
     "output_type": "stream",
     "text": [
      "Best Threshold=0.4149020314216614, F-Score=0.254413524602068, recall=0.352914798206278, precision=0.1562748212867355    \n",
      " 93%|████████████████████████████████████████▏  | 140/150 [2:02:55<08:43, 52.30s/trial, best loss: -0.26460675825104735]"
     ]
    },
    {
     "name": "stderr",
     "output_type": "stream",
     "text": [
      "/home/ynesterov/miniconda3/lib/python3.9/site-packages/xgboost/sklearn.py:885: UserWarning: `early_stopping_rounds` in `fit` method is deprecated for better compatibility with scikit-learn, use `early_stopping_rounds` in constructor or`set_params` instead.\n",
      "  warnings.warn(\n",
      "\n"
     ]
    },
    {
     "name": "stdout",
     "output_type": "stream",
     "text": [
      "Best Threshold=0.5201107263565063, F-Score=0.2547604145183079, recall=0.33318385650224214, precision=0.16655458417395202\n",
      " 94%|████████████████████████████████████████▍  | 141/150 [2:03:47<07:50, 52.31s/trial, best loss: -0.26460675825104735]"
     ]
    },
    {
     "name": "stderr",
     "output_type": "stream",
     "text": [
      "/home/ynesterov/miniconda3/lib/python3.9/site-packages/xgboost/sklearn.py:885: UserWarning: `early_stopping_rounds` in `fit` method is deprecated for better compatibility with scikit-learn, use `early_stopping_rounds` in constructor or`set_params` instead.\n",
      "  warnings.warn(\n",
      "\n"
     ]
    },
    {
     "name": "stdout",
     "output_type": "stream",
     "text": [
      "Best Threshold=0.4628097414970398, F-Score=0.25591024562912895, recall=0.3547085201793722, precision=0.1573190135242641 \n",
      " 95%|████████████████████████████████████████▋  | 142/150 [2:04:39<06:58, 52.36s/trial, best loss: -0.26460675825104735]"
     ]
    },
    {
     "name": "stderr",
     "output_type": "stream",
     "text": [
      "/home/ynesterov/miniconda3/lib/python3.9/site-packages/xgboost/sklearn.py:885: UserWarning: `early_stopping_rounds` in `fit` method is deprecated for better compatibility with scikit-learn, use `early_stopping_rounds` in constructor or`set_params` instead.\n",
      "  warnings.warn(\n",
      "\n"
     ]
    },
    {
     "name": "stdout",
     "output_type": "stream",
     "text": [
      "Best Threshold=0.7034400701522827, F-Score=0.2514520984178332, recall=0.3672645739910314, precision=0.1470905172413793  \n",
      " 95%|████████████████████████████████████████▉  | 143/150 [2:05:31<06:05, 52.18s/trial, best loss: -0.26460675825104735]"
     ]
    },
    {
     "name": "stderr",
     "output_type": "stream",
     "text": [
      "/home/ynesterov/miniconda3/lib/python3.9/site-packages/xgboost/sklearn.py:885: UserWarning: `early_stopping_rounds` in `fit` method is deprecated for better compatibility with scikit-learn, use `early_stopping_rounds` in constructor or`set_params` instead.\n",
      "  warnings.warn(\n",
      "\n"
     ]
    },
    {
     "name": "stdout",
     "output_type": "stream",
     "text": [
      "Best Threshold=0.23719054460525513, F-Score=0.26330302682348694, recall=0.3417040358744395, precision=0.17365542388331814\n",
      " 96%|█████████████████████████████████████████▎ | 144/150 [2:06:24<05:14, 52.39s/trial, best loss: -0.26460675825104735]"
     ]
    },
    {
     "name": "stderr",
     "output_type": "stream",
     "text": [
      "/home/ynesterov/miniconda3/lib/python3.9/site-packages/xgboost/sklearn.py:885: UserWarning: `early_stopping_rounds` in `fit` method is deprecated for better compatibility with scikit-learn, use `early_stopping_rounds` in constructor or`set_params` instead.\n",
      "  warnings.warn(\n",
      "\n"
     ]
    },
    {
     "name": "stdout",
     "output_type": "stream",
     "text": [
      "Best Threshold=0.6223042011260986, F-Score=0.2500651569243148, recall=0.3291479820627803, precision=0.16231755860238833 \n",
      " 97%|█████████████████████████████████████████▌ | 145/150 [2:07:16<04:21, 52.25s/trial, best loss: -0.26460675825104735]"
     ]
    },
    {
     "name": "stderr",
     "output_type": "stream",
     "text": [
      "/home/ynesterov/miniconda3/lib/python3.9/site-packages/xgboost/sklearn.py:885: UserWarning: `early_stopping_rounds` in `fit` method is deprecated for better compatibility with scikit-learn, use `early_stopping_rounds` in constructor or`set_params` instead.\n",
      "  warnings.warn(\n",
      "\n"
     ]
    },
    {
     "name": "stdout",
     "output_type": "stream",
     "text": [
      "Best Threshold=0.23533578217029572, F-Score=0.2608386548579537, recall=0.34573991031390133, precision=0.16801045979516235\n",
      " 97%|█████████████████████████████████████████▊ | 146/150 [2:08:08<03:28, 52.07s/trial, best loss: -0.26460675825104735]"
     ]
    },
    {
     "name": "stderr",
     "output_type": "stream",
     "text": [
      "/home/ynesterov/miniconda3/lib/python3.9/site-packages/xgboost/sklearn.py:885: UserWarning: `early_stopping_rounds` in `fit` method is deprecated for better compatibility with scikit-learn, use `early_stopping_rounds` in constructor or`set_params` instead.\n",
      "  warnings.warn(\n",
      "\n"
     ]
    },
    {
     "name": "stdout",
     "output_type": "stream",
     "text": [
      "Best Threshold=0.3820991516113281, F-Score=0.2586507419680316, recall=0.3439461883408072, precision=0.166017316017316   \n",
      " 98%|██████████████████████████████████████████▏| 147/150 [2:09:01<02:36, 52.32s/trial, best loss: -0.26460675825104735]"
     ]
    },
    {
     "name": "stderr",
     "output_type": "stream",
     "text": [
      "/home/ynesterov/miniconda3/lib/python3.9/site-packages/xgboost/sklearn.py:885: UserWarning: `early_stopping_rounds` in `fit` method is deprecated for better compatibility with scikit-learn, use `early_stopping_rounds` in constructor or`set_params` instead.\n",
      "  warnings.warn(\n",
      "\n"
     ]
    },
    {
     "name": "stdout",
     "output_type": "stream",
     "text": [
      "Best Threshold=0.02383246086537838, F-Score=0.11829535366187913, recall=0.22869955156950672, precision=0.05670446964643095\n",
      " 99%|██████████████████████████████████████████▍| 148/150 [2:09:46<01:40, 50.13s/trial, best loss: -0.26460675825104735]"
     ]
    },
    {
     "name": "stderr",
     "output_type": "stream",
     "text": [
      "/home/ynesterov/miniconda3/lib/python3.9/site-packages/xgboost/sklearn.py:885: UserWarning: `early_stopping_rounds` in `fit` method is deprecated for better compatibility with scikit-learn, use `early_stopping_rounds` in constructor or`set_params` instead.\n",
      "  warnings.warn(\n",
      "\n"
     ]
    },
    {
     "name": "stdout",
     "output_type": "stream",
     "text": [
      "Best Threshold=0.3697376549243927, F-Score=0.25962412218046427, recall=0.3596412556053812, precision=0.15969733174034248\n",
      " 99%|██████████████████████████████████████████▋| 149/150 [2:10:39<00:51, 51.23s/trial, best loss: -0.26460675825104735]"
     ]
    },
    {
     "name": "stderr",
     "output_type": "stream",
     "text": [
      "/home/ynesterov/miniconda3/lib/python3.9/site-packages/xgboost/sklearn.py:885: UserWarning: `early_stopping_rounds` in `fit` method is deprecated for better compatibility with scikit-learn, use `early_stopping_rounds` in constructor or`set_params` instead.\n",
      "  warnings.warn(\n",
      "\n"
     ]
    },
    {
     "name": "stdout",
     "output_type": "stream",
     "text": [
      "Best Threshold=0.22974476218223572, F-Score=0.2631656465365139, recall=0.35336322869955156, precision=0.16716164616037335\n",
      "100%|███████████████████████████████████████████| 150/150 [2:11:34<00:00, 52.63s/trial, best loss: -0.26460675825104735]\n",
      "The best hyperparameters are :  \n",
      "\n",
      "{'colsample_bytree': 0.7641758545981301, 'gamma': 6.424128698676173, 'max_depth': 5.0, 'min_child_weight': 0.0, 'n_estimators': 1023.0078555247765, 'reg_alpha': 86.0, 'reg_lambda': 0.48714545997765757, 'scale_pos_weight': 2.0}\n",
      "CPU times: user 1d 17h 17min, sys: 10min 3s, total: 1d 17h 27min 4s\n",
      "Wall time: 2h 11min 34s\n"
     ]
    }
   ],
   "source": [
    "%%time\n",
    "\n",
    "trials = Trials()\n",
    "\n",
    "best_hyperparams = fmin(fn = objective,\n",
    "                        space = space,\n",
    "                        algo = tpe.suggest,\n",
    "                        max_evals = 150,\n",
    "                        trials = trials)\n",
    "print(\"The best hyperparameters are : \",\"\\n\")\n",
    "print(best_hyperparams)"
   ]
  },
  {
   "cell_type": "code",
   "execution_count": 81,
   "metadata": {},
   "outputs": [
    {
     "name": "stdout",
     "output_type": "stream",
     "text": [
      "CPU times: user 29.7 s, sys: 1min 38s, total: 2min 8s\n",
      "Wall time: 50.2 s\n"
     ]
    }
   ],
   "source": [
    "%%time\n",
    "\n",
    "# Dataset for the final model\n",
    "X = df.select(pl.all().exclude('target'))\n",
    "y = df.select([pl.col('target'), pl.col('foto_mes')])\n",
    "\n",
    "X_test = X.filter(pl.col('foto_mes')==202107)\n",
    "X_train = X.filter(pl.col('foto_mes')<=202106)\n",
    "\n",
    "X_test = X_test.select(pl.all().exclude(['foto_mes', 'numero_de_cliente'])).to_numpy()\n",
    "X_train = X_train.select(pl.all().exclude(['foto_mes', 'numero_de_cliente'])).to_numpy()\n",
    "\n",
    "y_train = y.filter(pl.col('foto_mes')<=202106)\n",
    "y_train = y_train.select(pl.all().exclude('foto_mes')).to_numpy()\n",
    "\n",
    "y_train = y_train.reshape(y_train.shape[0])\n",
    "y_train = np.where(y_train=='B2', 1, 0)"
   ]
  },
  {
   "cell_type": "code",
   "execution_count": 82,
   "metadata": {},
   "outputs": [
    {
     "name": "stdout",
     "output_type": "stream",
     "text": [
      "CPU times: user 8h 2min 23s, sys: 37 s, total: 8h 3min\n",
      "Wall time: 7min 38s\n"
     ]
    },
    {
     "data": {
      "text/html": [
       "<style>#sk-container-id-5 {color: black;}#sk-container-id-5 pre{padding: 0;}#sk-container-id-5 div.sk-toggleable {background-color: white;}#sk-container-id-5 label.sk-toggleable__label {cursor: pointer;display: block;width: 100%;margin-bottom: 0;padding: 0.3em;box-sizing: border-box;text-align: center;}#sk-container-id-5 label.sk-toggleable__label-arrow:before {content: \"▸\";float: left;margin-right: 0.25em;color: #696969;}#sk-container-id-5 label.sk-toggleable__label-arrow:hover:before {color: black;}#sk-container-id-5 div.sk-estimator:hover label.sk-toggleable__label-arrow:before {color: black;}#sk-container-id-5 div.sk-toggleable__content {max-height: 0;max-width: 0;overflow: hidden;text-align: left;background-color: #f0f8ff;}#sk-container-id-5 div.sk-toggleable__content pre {margin: 0.2em;color: black;border-radius: 0.25em;background-color: #f0f8ff;}#sk-container-id-5 input.sk-toggleable__control:checked~div.sk-toggleable__content {max-height: 200px;max-width: 100%;overflow: auto;}#sk-container-id-5 input.sk-toggleable__control:checked~label.sk-toggleable__label-arrow:before {content: \"▾\";}#sk-container-id-5 div.sk-estimator input.sk-toggleable__control:checked~label.sk-toggleable__label {background-color: #d4ebff;}#sk-container-id-5 div.sk-label input.sk-toggleable__control:checked~label.sk-toggleable__label {background-color: #d4ebff;}#sk-container-id-5 input.sk-hidden--visually {border: 0;clip: rect(1px 1px 1px 1px);clip: rect(1px, 1px, 1px, 1px);height: 1px;margin: -1px;overflow: hidden;padding: 0;position: absolute;width: 1px;}#sk-container-id-5 div.sk-estimator {font-family: monospace;background-color: #f0f8ff;border: 1px dotted black;border-radius: 0.25em;box-sizing: border-box;margin-bottom: 0.5em;}#sk-container-id-5 div.sk-estimator:hover {background-color: #d4ebff;}#sk-container-id-5 div.sk-parallel-item::after {content: \"\";width: 100%;border-bottom: 1px solid gray;flex-grow: 1;}#sk-container-id-5 div.sk-label:hover label.sk-toggleable__label {background-color: #d4ebff;}#sk-container-id-5 div.sk-serial::before {content: \"\";position: absolute;border-left: 1px solid gray;box-sizing: border-box;top: 0;bottom: 0;left: 50%;z-index: 0;}#sk-container-id-5 div.sk-serial {display: flex;flex-direction: column;align-items: center;background-color: white;padding-right: 0.2em;padding-left: 0.2em;position: relative;}#sk-container-id-5 div.sk-item {position: relative;z-index: 1;}#sk-container-id-5 div.sk-parallel {display: flex;align-items: stretch;justify-content: center;background-color: white;position: relative;}#sk-container-id-5 div.sk-item::before, #sk-container-id-5 div.sk-parallel-item::before {content: \"\";position: absolute;border-left: 1px solid gray;box-sizing: border-box;top: 0;bottom: 0;left: 50%;z-index: -1;}#sk-container-id-5 div.sk-parallel-item {display: flex;flex-direction: column;z-index: 1;position: relative;background-color: white;}#sk-container-id-5 div.sk-parallel-item:first-child::after {align-self: flex-end;width: 50%;}#sk-container-id-5 div.sk-parallel-item:last-child::after {align-self: flex-start;width: 50%;}#sk-container-id-5 div.sk-parallel-item:only-child::after {width: 0;}#sk-container-id-5 div.sk-dashed-wrapped {border: 1px dashed gray;margin: 0 0.4em 0.5em 0.4em;box-sizing: border-box;padding-bottom: 0.4em;background-color: white;}#sk-container-id-5 div.sk-label label {font-family: monospace;font-weight: bold;display: inline-block;line-height: 1.2em;}#sk-container-id-5 div.sk-label-container {text-align: center;}#sk-container-id-5 div.sk-container {/* jupyter's `normalize.less` sets `[hidden] { display: none; }` but bootstrap.min.css set `[hidden] { display: none !important; }` so we also need the `!important` here to be able to override the default hidden behavior on the sphinx rendered scikit-learn.org. See: https://github.com/scikit-learn/scikit-learn/issues/21755 */display: inline-block !important;position: relative;}#sk-container-id-5 div.sk-text-repr-fallback {display: none;}</style><div id=\"sk-container-id-5\" class=\"sk-top-container\"><div class=\"sk-text-repr-fallback\"><pre>XGBClassifier(base_score=None, booster=None, callbacks=None,\n",
       "              colsample_bylevel=None, colsample_bynode=None,\n",
       "              colsample_bytree=0.7641758545981301, device=None,\n",
       "              early_stopping_rounds=None, enable_categorical=False,\n",
       "              eval_metric=None, feature_types=None, gamma=6.424128698676173,\n",
       "              grow_policy=None, importance_type=None,\n",
       "              interaction_constraints=None, learning_rate=None, max_bin=None,\n",
       "              max_cat_threshold=None, max_cat_to_onehot=None,\n",
       "              max_delta_step=None, max_depth=5, max_leaves=None,\n",
       "              min_child_weight=0.0, missing=nan, monotone_constraints=None,\n",
       "              multi_strategy=None, n_estimators=1024, n_jobs=None,\n",
       "              num_parallel_tree=None, random_state=None, ...)</pre><b>In a Jupyter environment, please rerun this cell to show the HTML representation or trust the notebook. <br />On GitHub, the HTML representation is unable to render, please try loading this page with nbviewer.org.</b></div><div class=\"sk-container\" hidden><div class=\"sk-item\"><div class=\"sk-estimator sk-toggleable\"><input class=\"sk-toggleable__control sk-hidden--visually\" id=\"sk-estimator-id-5\" type=\"checkbox\" checked><label for=\"sk-estimator-id-5\" class=\"sk-toggleable__label sk-toggleable__label-arrow\">XGBClassifier</label><div class=\"sk-toggleable__content\"><pre>XGBClassifier(base_score=None, booster=None, callbacks=None,\n",
       "              colsample_bylevel=None, colsample_bynode=None,\n",
       "              colsample_bytree=0.7641758545981301, device=None,\n",
       "              early_stopping_rounds=None, enable_categorical=False,\n",
       "              eval_metric=None, feature_types=None, gamma=6.424128698676173,\n",
       "              grow_policy=None, importance_type=None,\n",
       "              interaction_constraints=None, learning_rate=None, max_bin=None,\n",
       "              max_cat_threshold=None, max_cat_to_onehot=None,\n",
       "              max_delta_step=None, max_depth=5, max_leaves=None,\n",
       "              min_child_weight=0.0, missing=nan, monotone_constraints=None,\n",
       "              multi_strategy=None, n_estimators=1024, n_jobs=None,\n",
       "              num_parallel_tree=None, random_state=None, ...)</pre></div></div></div></div></div>"
      ],
      "text/plain": [
       "XGBClassifier(base_score=None, booster=None, callbacks=None,\n",
       "              colsample_bylevel=None, colsample_bynode=None,\n",
       "              colsample_bytree=0.7641758545981301, device=None,\n",
       "              early_stopping_rounds=None, enable_categorical=False,\n",
       "              eval_metric=None, feature_types=None, gamma=6.424128698676173,\n",
       "              grow_policy=None, importance_type=None,\n",
       "              interaction_constraints=None, learning_rate=None, max_bin=None,\n",
       "              max_cat_threshold=None, max_cat_to_onehot=None,\n",
       "              max_delta_step=None, max_depth=5, max_leaves=None,\n",
       "              min_child_weight=0.0, missing=nan, monotone_constraints=None,\n",
       "              multi_strategy=None, n_estimators=1024, n_jobs=None,\n",
       "              num_parallel_tree=None, random_state=None, ...)"
      ]
     },
     "execution_count": 82,
     "metadata": {},
     "output_type": "execute_result"
    }
   ],
   "source": [
    "%%time\n",
    "\n",
    "params1 = {'colsample_bytree': 0.7641758545981301, \n",
    "           'gamma': 6.424128698676173, \n",
    "           'max_depth': 5, \n",
    "           'min_child_weight': 0.0, \n",
    "           'n_estimators': 1024, \n",
    "           'reg_alpha': 86.0, \n",
    "           'reg_lambda': 0.48714545997765757, \n",
    "           'scale_pos_weight': 2,\n",
    "           'tree_method': \"hist\"}\n",
    "\n",
    "params2 = {'colsample_bytree': 0.7641758545981301, \n",
    "           'gamma': 6.424128698676173, \n",
    "           'max_depth': 5, \n",
    "           'min_child_weight': 0.0, \n",
    "           'n_estimators': 1024, \n",
    "           'reg_alpha': 86.0, \n",
    "           'reg_lambda': 0.48714545997765757, \n",
    "           'tree_method': \"hist\",\n",
    "           'scale_pos_weight': 10}\n",
    "\n",
    "xgb1 = XGBClassifier(**params1)\n",
    "xgb1.fit(X_train, y_train)\n",
    "\n",
    "xgb2 = XGBClassifier(**params2)\n",
    "xgb2.fit(X_train, y_train)"
   ]
  },
  {
   "cell_type": "code",
   "execution_count": 131,
   "metadata": {},
   "outputs": [],
   "source": [
    "sub_base = df.filter(pl.col('foto_mes')==202107).select(pl.col('numero_de_cliente')).to_pandas()\n",
    "sub_xgb1 = sub_base.copy()\n",
    "sub_xgb1['Predicted'] = np.where(preds_test1>=0.06, 1, 0)\n",
    "sub_xgb1.to_csv('xgb_spw1_006t.csv', index=False)"
   ]
  }
 ],
 "metadata": {
  "kernelspec": {
   "display_name": "Python 3 (ipykernel)",
   "language": "python",
   "name": "python3"
  },
  "language_info": {
   "codemirror_mode": {
    "name": "ipython",
    "version": 3
   },
   "file_extension": ".py",
   "mimetype": "text/x-python",
   "name": "python",
   "nbconvert_exporter": "python",
   "pygments_lexer": "ipython3",
   "version": "3.8.5"
  }
 },
 "nbformat": 4,
 "nbformat_minor": 5
}
